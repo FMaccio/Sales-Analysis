{
 "cells": [
  {
   "cell_type": "markdown",
   "id": "f2a3648b-bc57-4afe-850e-37b0eac4da7e",
   "metadata": {},
   "source": [
    "# Análisis de ventas\n",
    "\n",
    "Se facilita una lista de `dict` con datos reales de ventas con las siguientes keys:\n",
    "\n",
    "* 'Order ID'\n",
    "* 'Product'\n",
    "* 'Quantity Ordered'\n",
    "* 'Price Each\n",
    "* 'Order Date'\n",
    "* 'Purchase Address'\n",
    "\n",
    "y values de tipo `str` en todos los casos:"
   ]
  },
  {
   "cell_type": "code",
   "execution_count": 2,
   "id": "98f1775a-7d52-4540-bd4a-e3a14b2d6544",
   "metadata": {},
   "outputs": [],
   "source": [
    "import pickle\n",
    "\n",
    "with open('sales_data.pickle', 'rb') as handle:\n",
    "    sales_data = pickle.load(handle)"
   ]
  },
  {
   "cell_type": "code",
   "execution_count": 3,
   "id": "d11aad1f-294f-43e3-9d83-d3bdb063ca8b",
   "metadata": {},
   "outputs": [
    {
     "name": "stdout",
     "output_type": "stream",
     "text": [
      "186850\n"
     ]
    },
    {
     "data": {
      "text/plain": [
       "[{'Order ID': '209921',\n",
       "  'Product': 'USB-C Charging Cable',\n",
       "  'Quantity Ordered': '1',\n",
       "  'Price Each': '11.95',\n",
       "  'Order Date': '06/23/19 19:34',\n",
       "  'Purchase Address': '950 Walnut St, Portland, ME 04101'}]"
      ]
     },
     "execution_count": 3,
     "metadata": {},
     "output_type": "execute_result"
    }
   ],
   "source": [
    "print(len(sales_data))  # tiene 186850 entradas\n",
    "sales_data[0:1]  # los diccionarios tienen la siguiente estructura"
   ]
  },
  {
   "cell_type": "code",
   "execution_count": 4,
   "id": "11ffc230-d489-4955-9402-8500d6fa8d21",
   "metadata": {},
   "outputs": [],
   "source": [
    "sales_keys = sales_data[0].keys()"
   ]
  },
  {
   "cell_type": "markdown",
   "id": "ad7347c9-8129-4517-a73a-2468168f0cd4",
   "metadata": {},
   "source": [
    "Responder los siguientes interrogantes de interés, para lo que se requiere:\n",
    "\n",
    "* Inspeccionar los datos\n",
    "* Formatearlos adecuadamente\n",
    "* Elegir y confeccionar nuevas estructuras de datos"
   ]
  },
  {
   "cell_type": "code",
   "execution_count": 6,
   "id": "2d00bda4-76bf-4267-b57e-70a5e2be01ec",
   "metadata": {},
   "outputs": [
    {
     "data": {
      "text/plain": [
       "{'Order ID': 'Order ID',\n",
       " 'Product': 'Product',\n",
       " 'Quantity Ordered': 'Quantity Ordered',\n",
       " 'Price Each': 'Price Each',\n",
       " 'Order Date': 'Order Date',\n",
       " 'Purchase Address': 'Purchase Address'}"
      ]
     },
     "execution_count": 6,
     "metadata": {},
     "output_type": "execute_result"
    }
   ],
   "source": [
    "sales_data[158]\n",
    "# encontramos que algunos diccionarios tenian las values iguales a sus keys, por los que los eliminamos para evitar trabajar sobre ellos."
   ]
  },
  {
   "cell_type": "code",
   "execution_count": 5,
   "id": "ba706336-458a-4709-aa0a-3be4004176bc",
   "metadata": {},
   "outputs": [
    {
     "name": "stdout",
     "output_type": "stream",
     "text": [
      "186495\n"
     ]
    }
   ],
   "source": [
    "for sale in sales_data:\n",
    "    for k in sales_keys:\n",
    "        if sale[k] == k:\n",
    "            sales_data.pop(sales_data.index(sale))\n",
    "            break\n",
    "print(len(sales_data))"
   ]
  },
  {
   "cell_type": "code",
   "execution_count": 6,
   "id": "1868aa89-be48-43e0-a0af-0746b9b90182",
   "metadata": {},
   "outputs": [
    {
     "data": {
      "text/plain": [
       "185950"
      ]
     },
     "execution_count": 6,
     "metadata": {},
     "output_type": "execute_result"
    }
   ],
   "source": [
    "# encontramos que algunos diccionarios tenian las values vacias, por los que los eliminamos para evitar trabajar sobre ellos.\n",
    "\n",
    "for sale in sales_data:\n",
    "    for k in sales_keys:\n",
    "        if type(sale[k]) != type('string'):\n",
    "            sales_data.pop(sales_data.index(sale))\n",
    "            break\n",
    "        elif sale[k] == '':\n",
    "            sales_data.pop(sales_data.index(sale))\n",
    "            break\n",
    "len(sales_data)"
   ]
  },
  {
   "cell_type": "code",
   "execution_count": null,
   "id": "cfc27152-4279-4ac2-8d12-64e2e52643ce",
   "metadata": {},
   "outputs": [],
   "source": [
    "## para recorrer la lista de diccionarios se decició recurrir a listas que contengan la información requerida para cada ejercicio de manera ordenada"
   ]
  },
  {
   "cell_type": "markdown",
   "id": "03e6b700-bedb-4bc9-8326-73b941af9c92",
   "metadata": {},
   "source": [
    "**1)** ¿Cuál es el mes que reporta **la mayor cantidad de productos**? \n",
    "\n",
    "*Se espera*: `El mes de mayor venta es: {Enero/Febrero/Marzo/Abril...}` *(nótese que se debe printear el nombre del mes)*"
   ]
  },
  {
   "cell_type": "code",
   "execution_count": 9,
   "id": "d4b89e71-9bd9-4a01-8ca8-bee0f4996e61",
   "metadata": {},
   "outputs": [
    {
     "data": {
      "text/plain": [
       "'07'"
      ]
     },
     "execution_count": 9,
     "metadata": {},
     "output_type": "execute_result"
    }
   ],
   "source": [
    "months_sales_data = []\n",
    "\n",
    "for sale in sales_data:\n",
    "    months_sales_data.append(sale['Order Date'][0:2])  #order date es del formato mm/dd/yyyy, hh:mm:ss solo me interesa el mes\n",
    "months_sales_data[-1]"
   ]
  },
  {
   "cell_type": "code",
   "execution_count": 10,
   "id": "7aa1bc58-9f62-43d6-92bb-a68f2356f3a7",
   "metadata": {},
   "outputs": [],
   "source": [
    "months_dict = {}\n",
    "\n",
    "for i in range(1, 13):\n",
    "    if i < 10:\n",
    "        k = '0' + str(i)\n",
    "    else:\n",
    "        k = str(i)\n",
    "    months_dict[k] = 0\n",
    "# hacer una función para crear diccionario de meses"
   ]
  },
  {
   "cell_type": "code",
   "execution_count": 11,
   "id": "10bb5e87-2dd6-4043-a392-3c61601ad8f4",
   "metadata": {},
   "outputs": [
    {
     "data": {
      "text/plain": [
       "{'01': 9709,\n",
       " '02': 11975,\n",
       " '03': 15153,\n",
       " '04': 18279,\n",
       " '05': 16566,\n",
       " '06': 13554,\n",
       " '07': 14293,\n",
       " '08': 11961,\n",
       " '09': 11621,\n",
       " '10': 20282,\n",
       " '11': 17573,\n",
       " '12': 24984}"
      ]
     },
     "execution_count": 11,
     "metadata": {},
     "output_type": "execute_result"
    }
   ],
   "source": [
    "for month in months_dict.keys():\n",
    "    for order in months_sales_data:\n",
    "        if month == order:\n",
    "            months_dict[month] = months_dict[month] + 1\n",
    "months_dict    "
   ]
  },
  {
   "cell_type": "code",
   "execution_count": 12,
   "id": "ea64f71d-6112-4062-99b9-43147590b264",
   "metadata": {},
   "outputs": [],
   "source": [
    "spanish_months = ['enero', 'febrero', 'marzo', 'abril', 'mayo', 'junio', 'julio', 'agosto', 'setiembre', 'octubre', 'noviembre', 'diciembre'] \n",
    "spanish_months_dict = {}\n",
    "\n",
    "for i in range(1, 13):\n",
    "    if i < 10:\n",
    "        k = '0' + str(i)\n",
    "    else:\n",
    "        k = str(i)\n",
    "    spanish_months_dict[k] = spanish_months[i - 1]"
   ]
  },
  {
   "cell_type": "code",
   "execution_count": 13,
   "id": "36412521-7dba-4d4c-9ee1-14071f5f4c14",
   "metadata": {},
   "outputs": [
    {
     "data": {
      "text/plain": [
       "24984"
      ]
     },
     "execution_count": 13,
     "metadata": {},
     "output_type": "execute_result"
    }
   ],
   "source": [
    "sales_comparative = []\n",
    "\n",
    "for month in months_dict:\n",
    "    sales_comparative.append(months_dict[month])\n",
    "\n",
    "sales = max(sales_comparative)\n",
    "sales"
   ]
  },
  {
   "cell_type": "code",
   "execution_count": 14,
   "id": "e31e0376-50c9-4b0d-8edf-443a76e11cc4",
   "metadata": {},
   "outputs": [
    {
     "data": {
      "text/plain": [
       "'diciembre'"
      ]
     },
     "execution_count": 14,
     "metadata": {},
     "output_type": "execute_result"
    }
   ],
   "source": [
    "for month in months_dict:\n",
    "    if str(sales) in str(months_dict[month]):\n",
    "        best_month = spanish_months_dict[month]\n",
    "best_month"
   ]
  },
  {
   "cell_type": "code",
   "execution_count": 15,
   "id": "cfa39c57-3e83-4499-a818-82a0a39cb123",
   "metadata": {},
   "outputs": [
    {
     "name": "stdout",
     "output_type": "stream",
     "text": [
      "El mes de mayor venta es: diciembre.\n"
     ]
    }
   ],
   "source": [
    "print(f'El mes de mayor venta es: {best_month}.')"
   ]
  },
  {
   "cell_type": "markdown",
   "id": "ed6afa4f-6c1f-490c-8fab-a2f66703cc50",
   "metadata": {},
   "source": [
    "El motivo por el cual las ventas aumentan en diciembre es la celebración de la navidad y su tradición de entregar regalos. "
   ]
  },
  {
   "cell_type": "markdown",
   "id": "1ad7a381-be91-4dcf-9696-e614582066fd",
   "metadata": {},
   "source": [
    "**2)** ¿Qué ganancia reporta dicho mes?  \n",
    "*Se espera*: `En el mes de {Enero/Febrero/Marzo/Abril...} se reporta una ganancia total de USD{xxxx.xx}` *(nótese que el monto debe incluir DOS decimales)*"
   ]
  },
  {
   "cell_type": "code",
   "execution_count": 16,
   "id": "a66866bc-2335-4098-8f58-d1c3956aebe6",
   "metadata": {},
   "outputs": [],
   "source": [
    "def multiply(a: int, b: float) -> float:\n",
    "    return a * b"
   ]
  },
  {
   "cell_type": "code",
   "execution_count": 17,
   "id": "a050abdf-6b60-4215-bcdf-2c404fa24e46",
   "metadata": {},
   "outputs": [],
   "source": [
    "months_gain_data = []\n",
    "\n",
    "for sale in sales_data:       \n",
    "    months_gain_data.append( [ sale['Order Date'][0:2] , round(multiply(int(sale['Quantity Ordered']), float(sale['Price Each'])), 2) ] )\n",
    "# formato: ['07', 2.99]"
   ]
  },
  {
   "cell_type": "code",
   "execution_count": 18,
   "id": "63ff8f9b-94e6-475e-b00d-142d36020dc1",
   "metadata": {},
   "outputs": [],
   "source": [
    "gains_dict = {}\n",
    "\n",
    "for i in range(1, 13):\n",
    "    if i < 10:\n",
    "        k = '0' + str(i)\n",
    "    else:\n",
    "        k = str(i)\n",
    "    gains_dict[k] = 0"
   ]
  },
  {
   "cell_type": "code",
   "execution_count": 26,
   "id": "e6ae5da2-ff7c-4d57-8861-1e757bbb4b69",
   "metadata": {},
   "outputs": [
    {
     "name": "stdout",
     "output_type": "stream",
     "text": [
      "{'01': 3644513.460000878, '02': 4404044.840001397, '03': 5614200.760002203, '04': 6781340.480002939, '05': 6305213.500002601, '06': 5155604.520001792, '07': 5295551.520001975, '08': 4488935.760001408, '09': 4195120.260001261, '10': 7473453.760003513, '11': 6399206.400002738, '12': 9226886.680003785}\n"
     ]
    }
   ],
   "source": [
    "for data in months_gain_data:\n",
    "    for month in gains_dict.keys():\n",
    "        if month == data[0]:\n",
    "            gains_dict[month] += round(data[1],2)\n",
    "            round(gains_dict[month],2)\n",
    "\n",
    "print(gains_dict)"
   ]
  },
  {
   "cell_type": "code",
   "execution_count": 20,
   "id": "ab7ebe73-f8aa-45f6-bdfc-961630186178",
   "metadata": {},
   "outputs": [
    {
     "data": {
      "text/plain": [
       "4613443.34"
      ]
     },
     "execution_count": 20,
     "metadata": {},
     "output_type": "execute_result"
    }
   ],
   "source": [
    "for month in spanish_months_dict:\n",
    "    if spanish_months_dict[month] == best_month:\n",
    "        best_month_gains = round(gains_dict[month],2)\n",
    "best_month_gains   "
   ]
  },
  {
   "cell_type": "code",
   "execution_count": 21,
   "id": "2637fb0f-96c7-475c-ae9f-9832e3812c61",
   "metadata": {},
   "outputs": [
    {
     "name": "stdout",
     "output_type": "stream",
     "text": [
      "En el mes de diciembre se reporta una ganancia total de USD 4613443.34.\n"
     ]
    }
   ],
   "source": [
    "print(f'En el mes de {best_month} se reporta una ganancia total de USD {best_month_gains}.')"
   ]
  },
  {
   "cell_type": "code",
   "execution_count": 29,
   "id": "3260fabd-1785-4883-bf25-18ce97f7ca08",
   "metadata": {},
   "outputs": [
    {
     "name": "stdout",
     "output_type": "stream",
     "text": [
      "68984071.94\n"
     ]
    }
   ],
   "source": [
    "gains_list = []\n",
    "for month in gains_dict:\n",
    "    gains_list.append(gains_dict[month])\n",
    "total_gains = sum(gains_list)\n",
    "print(round(total_gains,2))"
   ]
  },
  {
   "cell_type": "code",
   "execution_count": 31,
   "id": "f0d9a9d6-261b-4378-a5a1-423d179b819c",
   "metadata": {},
   "outputs": [
    {
     "data": {
      "text/plain": [
       "6.687693564988225"
      ]
     },
     "execution_count": 31,
     "metadata": {},
     "output_type": "execute_result"
    }
   ],
   "source": [
    "sales_percentage = (best_month_gains / total_gains)*100\n",
    "sales_percentage"
   ]
  },
  {
   "cell_type": "markdown",
   "id": "943cdd2d-5176-4486-81c5-7c9daf23704b",
   "metadata": {},
   "source": [
    "A pesar de que diciembre es el mes con más ventas registradas, no es el mes con más ganancias. Solo representan el 6,7 % de las ganancias totales. Dado que este mes es el de mayor ventas, podría ofrecerse descuentos especiales para incentivar a los clientes a comprar productos más caros y generar así mayores ganancias."
   ]
  },
  {
   "cell_type": "markdown",
   "id": "08b218e9-775d-4383-9f13-baa3d8b9be9e",
   "metadata": {},
   "source": [
    "**3)** ¿Qué porcentaje del total de las ventas representa?  \n",
    "*Se espera*: `Las ventas en el mes de {Enero/Febrero/Marzo/Abril...} representan un xx.xx% del total de las ventas` *(nótese que el monto debe incluir DOS decimales)*"
   ]
  },
  {
   "cell_type": "code",
   "execution_count": 32,
   "id": "eb71a997-5c35-42b3-922f-5c05ab5ce541",
   "metadata": {},
   "outputs": [
    {
     "data": {
      "text/plain": [
       "185950"
      ]
     },
     "execution_count": 32,
     "metadata": {},
     "output_type": "execute_result"
    }
   ],
   "source": [
    "total_sales = sum(sales_comparative)\n",
    "total_sales"
   ]
  },
  {
   "cell_type": "code",
   "execution_count": 33,
   "id": "12e23955-1e78-4cfa-a3df-9ced75aa1380",
   "metadata": {},
   "outputs": [
    {
     "data": {
      "text/plain": [
       "13.44"
      ]
     },
     "execution_count": 33,
     "metadata": {},
     "output_type": "execute_result"
    }
   ],
   "source": [
    "sales_percentage = round((max(sales_comparative)/total_sales) * 100 ,2)\n",
    "sales_percentage"
   ]
  },
  {
   "cell_type": "code",
   "execution_count": 34,
   "id": "30282db3-efe3-4df7-a4aa-b7a29949fe22",
   "metadata": {},
   "outputs": [
    {
     "name": "stdout",
     "output_type": "stream",
     "text": [
      "Las ventas en el mes de diciembre representan un 13.44 % del total de las ventas.\n"
     ]
    }
   ],
   "source": [
    "print(f'Las ventas en el mes de {best_month} representan un {sales_percentage} % del total de las ventas.')"
   ]
  },
  {
   "cell_type": "markdown",
   "id": "16a4ef82-0753-41b0-8313-5d069b17225a",
   "metadata": {},
   "source": [
    "**4)** ¿Qué ciudad reportó la mayor cantidad de ventas?  \n",
    "*Se espera*: `La ciudad con mayor cantidad de ventas es {Dallas/Los Angeles/Boston...} reporta la mayor cantidad de ventas` *(nótese que se debe especificar la ciudad y no la dirección completa)*"
   ]
  },
  {
   "cell_type": "code",
   "execution_count": 35,
   "id": "4f77ded6-78d4-4a2d-947c-4dbda776d480",
   "metadata": {},
   "outputs": [],
   "source": [
    "city_sales_data = []\n",
    "\n",
    "for sale in sales_data:\n",
    "    city_sales_data.append( sale['Purchase Address'].split(', ')[1])\n",
    "#print(city_sales_data[-1])"
   ]
  },
  {
   "cell_type": "code",
   "execution_count": 36,
   "id": "1f1e5754-6054-44ce-a5ea-83b3933e0c43",
   "metadata": {},
   "outputs": [
    {
     "data": {
      "text/plain": [
       "{'Dallas': 0,\n",
       " 'Boston': 0,\n",
       " 'San Francisco': 0,\n",
       " 'Austin': 0,\n",
       " 'Portland': 0,\n",
       " 'New York City': 0,\n",
       " 'Atlanta': 0,\n",
       " 'Los Angeles': 0,\n",
       " 'Seattle': 0}"
      ]
     },
     "execution_count": 36,
     "metadata": {},
     "output_type": "execute_result"
    }
   ],
   "source": [
    "citys_set = set(city_sales_data)  # me arme un set para sacar las keys de mi diccionario de ciudades\n",
    "citys_sales_dict = {}\n",
    "\n",
    "for city in citys_set:\n",
    "    citys_sales_dict[city] = 0\n",
    "citys_sales_dict"
   ]
  },
  {
   "cell_type": "code",
   "execution_count": 37,
   "id": "8b3dee57-6a6b-4eeb-80c7-18a523c26277",
   "metadata": {},
   "outputs": [
    {
     "data": {
      "text/plain": [
       "{'Dallas': 14820,\n",
       " 'Boston': 19934,\n",
       " 'San Francisco': 44732,\n",
       " 'Austin': 9905,\n",
       " 'Portland': 12465,\n",
       " 'New York City': 24876,\n",
       " 'Atlanta': 14881,\n",
       " 'Los Angeles': 29605,\n",
       " 'Seattle': 14732}"
      ]
     },
     "execution_count": 37,
     "metadata": {},
     "output_type": "execute_result"
    }
   ],
   "source": [
    "for city in citys_sales_dict.keys():\n",
    "    for order in city_sales_data:\n",
    "        if city == order:\n",
    "            citys_sales_dict[city] = citys_sales_dict[city] + 1\n",
    "citys_sales_dict   "
   ]
  },
  {
   "cell_type": "code",
   "execution_count": 38,
   "id": "7be2f5be-8fd1-4c36-b222-d073ffb0d170",
   "metadata": {},
   "outputs": [
    {
     "data": {
      "text/plain": [
       "44732"
      ]
     },
     "execution_count": 38,
     "metadata": {},
     "output_type": "execute_result"
    }
   ],
   "source": [
    "city_comparative = []\n",
    "for city in citys_sales_dict:\n",
    "    city_comparative.append(citys_sales_dict[city])\n",
    "\n",
    "orders = max(city_comparative)\n",
    "orders"
   ]
  },
  {
   "cell_type": "code",
   "execution_count": 39,
   "id": "3764af5e-b67b-4c5b-ba90-7b61768544f1",
   "metadata": {},
   "outputs": [
    {
     "data": {
      "text/plain": [
       "'San Francisco'"
      ]
     },
     "execution_count": 39,
     "metadata": {},
     "output_type": "execute_result"
    }
   ],
   "source": [
    "for city in citys_sales_dict:\n",
    "    if str(orders) in str(citys_sales_dict[city]):\n",
    "        best_city = city\n",
    "best_city"
   ]
  },
  {
   "cell_type": "code",
   "execution_count": 40,
   "id": "4c1ec46a-d849-4551-a05a-9a1c5f8de728",
   "metadata": {},
   "outputs": [
    {
     "name": "stdout",
     "output_type": "stream",
     "text": [
      "Con 44732 ventas, la ciudad con mayor cantidad de ventas es San Francisco.\n"
     ]
    }
   ],
   "source": [
    "print(f'Con {orders} ventas, la ciudad con mayor cantidad de ventas es {best_city}.')"
   ]
  },
  {
   "cell_type": "markdown",
   "id": "72ea8b39-afba-48d4-8a4e-93952bad8245",
   "metadata": {},
   "source": [
    "San Francisco tiene 874.784 habitantes, mientras que Nueva York tiene 8,38 millones. Sería interesante aumentar la publicidad en esa ciudad para aumentar así también las ventas totales. "
   ]
  },
  {
   "cell_type": "markdown",
   "id": "58bf8a48-2f2d-4166-8556-96430e56caff",
   "metadata": {},
   "source": [
    "**5)** ¿Qué porcentaje del total de las ventas representa?  \n",
    "*Se espera*: `Las ventas en {Dallas/Los Angeles/Boston...} representan un xx.xx% del total` *(nótese que se debe especificar la ciudad y no la dirección completa)*"
   ]
  },
  {
   "cell_type": "code",
   "execution_count": 41,
   "id": "4046e8d2-8961-466d-be01-29bbc3ad687c",
   "metadata": {},
   "outputs": [
    {
     "data": {
      "text/plain": [
       "24.06"
      ]
     },
     "execution_count": 41,
     "metadata": {},
     "output_type": "execute_result"
    }
   ],
   "source": [
    "city_percentage = round((max(city_comparative)/total_sales) * 100 ,2)\n",
    "city_percentage"
   ]
  },
  {
   "cell_type": "code",
   "execution_count": 42,
   "id": "7348d489-34fb-4062-8553-4bdd66eea9fb",
   "metadata": {},
   "outputs": [
    {
     "name": "stdout",
     "output_type": "stream",
     "text": [
      "Las ventas en San Francisco representan un 24.06 % del total.\n"
     ]
    }
   ],
   "source": [
    "print(f'Las ventas en {best_city} representan un {city_percentage} % del total.')"
   ]
  },
  {
   "cell_type": "markdown",
   "id": "6da0d69c-21d7-41d5-b0e5-e4850e14295b",
   "metadata": {},
   "source": [
    "Las ventas en San Francisco representan practicamente 1/4 de las ventas totales de la empresa, marcando una fuerte presencia en la costa oeste."
   ]
  },
  {
   "cell_type": "markdown",
   "id": "5df123ac-8802-4c6a-9b52-2093f9cd671d",
   "metadata": {},
   "source": [
    "**6)** ¿En qué horas del día se deberían publicar anuncios promocionales para maximizar las ventas?  \n",
    "*Se espera*: `Las horas del día en las que más ventas se registran son: {xx}hs y {yy}hs` *(nótese que se requieren horas del día, como \"10hs\" o \"20hs\")*"
   ]
  },
  {
   "cell_type": "code",
   "execution_count": 44,
   "id": "87236987-21fe-4cd7-a672-df7b41226ed3",
   "metadata": {},
   "outputs": [
    {
     "data": {
      "text/plain": [
       "'19'"
      ]
     },
     "execution_count": 44,
     "metadata": {},
     "output_type": "execute_result"
    }
   ],
   "source": [
    "hours_sales_data = []\n",
    "\n",
    "for sale in sales_data:\n",
    "    hours_sales_data.append(sale['Order Date'][-5:-3])\n",
    "hours_sales_data[0]"
   ]
  },
  {
   "cell_type": "code",
   "execution_count": 45,
   "id": "fd6de83a-6dfe-4350-a6e5-cae6aecc1022",
   "metadata": {},
   "outputs": [],
   "source": [
    "hours_dict = {}\n",
    "\n",
    "for i in range(0, 24):\n",
    "    if i < 10:\n",
    "        k = '0' + str(i)\n",
    "    else:\n",
    "        k = str(i)\n",
    "    hours_dict[k] = 0\n",
    "#hours_dict"
   ]
  },
  {
   "cell_type": "code",
   "execution_count": 47,
   "id": "1df4f7a9-f1ad-46c3-8f54-80fe555d95b1",
   "metadata": {},
   "outputs": [
    {
     "data": {
      "text/plain": [
       "{'00': 3910,\n",
       " '01': 2350,\n",
       " '02': 1243,\n",
       " '03': 831,\n",
       " '04': 854,\n",
       " '05': 1321,\n",
       " '06': 2482,\n",
       " '07': 4011,\n",
       " '08': 6256,\n",
       " '09': 8748,\n",
       " '10': 10944,\n",
       " '11': 12411,\n",
       " '12': 12587,\n",
       " '13': 12129,\n",
       " '14': 10984,\n",
       " '15': 10175,\n",
       " '16': 10384,\n",
       " '17': 10899,\n",
       " '18': 12280,\n",
       " '19': 12905,\n",
       " '20': 12228,\n",
       " '21': 10921,\n",
       " '22': 8822,\n",
       " '23': 6275}"
      ]
     },
     "execution_count": 47,
     "metadata": {},
     "output_type": "execute_result"
    }
   ],
   "source": [
    "for hour in hours_dict.keys():\n",
    "    for order in hours_sales_data:\n",
    "        if hour == order:\n",
    "            hours_dict[hour] = hours_dict[hour] + 1\n",
    "hours_dict  "
   ]
  },
  {
   "cell_type": "code",
   "execution_count": 48,
   "id": "ab5fcc5e-8f1d-45f6-901c-220f1d372e6d",
   "metadata": {},
   "outputs": [
    {
     "name": "stdout",
     "output_type": "stream",
     "text": [
      "[3910, 2350, 1243, 831, 854, 1321, 2482, 4011, 6256, 8748, 10944, 12411, 12587, 12129, 10984, 10175, 10384, 10899, 12280, 12228, 10921, 8822, 6275]\n"
     ]
    }
   ],
   "source": [
    "hours_comparative = []\n",
    "\n",
    "for hour in hours_dict.keys():\n",
    "    hours_comparative.append(hours_dict[hour])\n",
    "    \n",
    "best_hour = max(hours_comparative)\n",
    "hours_comparative.pop(hours_comparative.index(max(hours_comparative)))\n",
    "print(hours_comparative)"
   ]
  },
  {
   "cell_type": "code",
   "execution_count": 49,
   "id": "4b02bbd3-7724-4c68-81f6-894c0a0c7a04",
   "metadata": {},
   "outputs": [
    {
     "data": {
      "text/plain": [
       "[12905, 12587]"
      ]
     },
     "execution_count": 49,
     "metadata": {},
     "output_type": "execute_result"
    }
   ],
   "source": [
    "second_best_hour = max(hours_comparative)\n",
    "sales_hours = [best_hour , second_best_hour]\n",
    "sales_hours"
   ]
  },
  {
   "cell_type": "code",
   "execution_count": 50,
   "id": "861d3c3c-015d-4f46-a9cb-fd7b340aa1d2",
   "metadata": {},
   "outputs": [
    {
     "name": "stdout",
     "output_type": "stream",
     "text": [
      "19\n",
      "13\n"
     ]
    }
   ],
   "source": [
    "for hour in hours_dict:\n",
    "    if str(best_hour) in str(hours_dict[hour]):\n",
    "        best_hour = hour\n",
    "    elif str(second_best_hour) in str(hours_dict[hour]):\n",
    "        second_best_hour = hour\n",
    "print(best_hour)  # después del trabajo, apenas la gente llega a casa\n",
    "print(second_best_hour)  # en el almuerzo"
   ]
  },
  {
   "cell_type": "code",
   "execution_count": 52,
   "id": "8000e2e1-d47a-41da-90d9-0c65faafa459",
   "metadata": {},
   "outputs": [
    {
     "name": "stdout",
     "output_type": "stream",
     "text": [
      "Las horas del día en las que más ventas se registran son: 19hs y 13hs.\n"
     ]
    }
   ],
   "source": [
    "print(f'Las horas del día en las que más ventas se registran son: {best_hour}hs y {second_best_hour}hs.') "
   ]
  },
  {
   "cell_type": "markdown",
   "id": "8b93824e-b8b6-4925-b52d-0b51912ac79e",
   "metadata": {},
   "source": [
    "La mayoría de las ventas tiene lugar durante la hora del almuerzo y luego del horario de oficina, cuando las personas regresan a sus hogares. Para potenciar estas ventas hay que aumentar la publicidad cercana a estas horas, para atraer a los clientes a realizar la compra."
   ]
  },
  {
   "cell_type": "markdown",
   "id": "aace424e-7c80-4959-8943-9e0e937a6148",
   "metadata": {},
   "source": [
    "**7)** Determinar productos que se venden juntos y DE A DOS.  \n",
    "*Se espera*: `Los siguientes productos se venden juntos y de a dos: {x}-{y}, {yy}-{zz} ...`  \n",
    "**OBS**: Para una misma *orden* se pueden regitrar varios productos."
   ]
  },
  {
   "cell_type": "code",
   "execution_count": 8,
   "id": "37709319-f1d3-4840-b65f-d5c830869c45",
   "metadata": {},
   "outputs": [],
   "source": [
    "product_sales_data = []\n",
    "\n",
    "for sale in sales_data:       \n",
    "    product_sales_data.append( [sale['Order ID'], [sale['Product']], (int(sale['Quantity Ordered']) ) ])\n",
    "# formato: ['209921', 'USB-C Charging Cable', 1]\n",
    "#product_sales_data[0]"
   ]
  },
  {
   "cell_type": "code",
   "execution_count": 9,
   "id": "afae8569-e418-4949-97ea-c662a469fe5f",
   "metadata": {},
   "outputs": [
    {
     "data": {
      "text/plain": [
       "178437"
      ]
     },
     "execution_count": 9,
     "metadata": {},
     "output_type": "execute_result"
    }
   ],
   "source": [
    "order_id_list = []\n",
    "\n",
    "for sale in sales_data:\n",
    "    order_id_list.append(sale['Order ID'])\n",
    "order_id_set = set(order_id_list)\n",
    "len(order_id_set)"
   ]
  },
  {
   "cell_type": "code",
   "execution_count": 14,
   "id": "b3522bad-c280-4c91-bf8b-9c7b91682b65",
   "metadata": {},
   "outputs": [
    {
     "data": {
      "text/plain": [
       "7513"
      ]
     },
     "execution_count": 14,
     "metadata": {},
     "output_type": "execute_result"
    }
   ],
   "source": [
    "len(product_sales_data)-len(order_id_set)"
   ]
  },
  {
   "cell_type": "markdown",
   "id": "da3f96b3-e60d-4fb3-8754-f8fdeb88931d",
   "metadata": {},
   "source": [
    "Hay 7513 order ID que se repiten al menos una vez"
   ]
  },
  {
   "cell_type": "code",
   "execution_count": 7,
   "id": "f87dc066-d5c9-41ca-a7b6-57929e708bdc",
   "metadata": {},
   "outputs": [
    {
     "data": {
      "text/plain": [
       "168552"
      ]
     },
     "execution_count": 7,
     "metadata": {},
     "output_type": "execute_result"
    }
   ],
   "source": [
    "one_product_id_list = []\n",
    "two_products_id_list = []\n",
    "\n",
    "for sale in product_sales_data:\n",
    "    if sale[2] == 1:\n",
    "        one_product_id_list.append(sale[0])\n",
    "    elif sale[2] == 2:\n",
    "        two_products_id_list.append(sale[0])\n",
    "len(two_products_id_list)\n",
    "len(one_product_id_list)"
   ]
  },
  {
   "cell_type": "code",
   "execution_count": 8,
   "id": "d2a4ec9c-1bea-472f-a590-a133e25f43c7",
   "metadata": {},
   "outputs": [],
   "source": [
    "two_product_order_id_dict = {}\n",
    "\n",
    "for i_d in two_products_id_list:\n",
    "    if two_products_id_list.count(i_d) == 2:\n",
    "        two_product_order_id_dict[i_d] = 0\n"
   ]
  },
  {
   "cell_type": "code",
   "execution_count": 28,
   "id": "e7c6d233-2887-44dd-b065-026721dd95e2",
   "metadata": {},
   "outputs": [],
   "source": [
    "\n",
    "for i_d in two_product_order_id_dict.keys():\n",
    "    two_product_order_id_dict[i_d] = []\n",
    "    for data in product_sales_data:\n",
    "        if i_d == data[0]:\n",
    "            two_product_order_id_dict[i_d].append(data[1])\n",
    "\n"
   ]
  },
  {
   "cell_type": "code",
   "execution_count": 29,
   "id": "9d700287-32ee-4ea7-a8ff-54ba7f8a5443",
   "metadata": {},
   "outputs": [
    {
     "data": {
      "text/plain": [
       "{'213754': [['Wired Headphones'], ['Apple Airpods Headphones']],\n",
       " '301938': [['USB-C Charging Cable'], ['Wired Headphones']],\n",
       " '304219': [['Lightning Charging Cable'], ['AA Batteries (4-pack)']],\n",
       " '151568': [['Google Phone'], ['Wired Headphones'], ['USB-C Charging Cable']],\n",
       " '253330': [['AAA Batteries (4-pack)'], ['AA Batteries (4-pack)']],\n",
       " '255092': [['Wired Headphones'], ['AA Batteries (4-pack)']],\n",
       " '178525': [['AAA Batteries (4-pack)'], ['AA Batteries (4-pack)']],\n",
       " '247041': [['AAA Batteries (4-pack)'], ['AAA Batteries (4-pack)']],\n",
       " '142570': [['AAA Batteries (4-pack)'], ['AA Batteries (4-pack)']],\n",
       " '149454': [['AAA Batteries (4-pack)'], ['Wired Headphones']],\n",
       " '163547': [['USB-C Charging Cable'], ['AA Batteries (4-pack)']],\n",
       " '171373': [['AA Batteries (4-pack)'], ['AA Batteries (4-pack)']],\n",
       " '175299': [['USB-C Charging Cable'], ['AAA Batteries (4-pack)']],\n",
       " '194575': [['AA Batteries (4-pack)'], ['AAA Batteries (4-pack)']],\n",
       " '209533': [['USB-C Charging Cable'], ['AAA Batteries (4-pack)']],\n",
       " '264534': [['AAA Batteries (4-pack)'], ['AAA Batteries (4-pack)']],\n",
       " '270060': [['AA Batteries (4-pack)'], ['Wired Headphones']],\n",
       " '285928': [['AA Batteries (4-pack)'], ['Lightning Charging Cable']],\n",
       " '288332': [['AAA Batteries (4-pack)'], ['AA Batteries (4-pack)']],\n",
       " '291272': [['AAA Batteries (4-pack)'], ['Lightning Charging Cable']],\n",
       " '225376': [['AA Batteries (4-pack)'], ['AAA Batteries (4-pack)']]}"
      ]
     },
     "execution_count": 29,
     "metadata": {},
     "output_type": "execute_result"
    }
   ],
   "source": [
    "two_product_order_id_dict"
   ]
  },
  {
   "cell_type": "code",
   "execution_count": 31,
   "id": "f7f0c148-992c-4495-9714-5d408184b98b",
   "metadata": {},
   "outputs": [],
   "source": [
    "one_product_order_id_dict = {}\n",
    "\n",
    "for i_d in two_products_id_list:\n",
    "    if one_product_id_list.count(i_d) == 1:\n",
    "        one_product_order_id_dict[i_d] = 0"
   ]
  },
  {
   "cell_type": "code",
   "execution_count": 42,
   "id": "23bbb1dc-9797-4d2f-8d1b-da9000ff84d8",
   "metadata": {},
   "outputs": [
    {
     "data": {
      "text/plain": [
       "{'210365': [['Vareebadd Phone'], ['USB-C Charging Cable']],\n",
       " '210712': [['Wired Headphones'], ['USB-C Charging Cable']],\n",
       " '210769': [['AAA Batteries (4-pack)'], ['Lightning Charging Cable']],\n",
       " '211094': [['AAA Batteries (4-pack)'], ['AA Batteries (4-pack)']],\n",
       " '211478': [['AAA Batteries (4-pack)'], ['USB-C Charging Cable']],\n",
       " '211559': [['AA Batteries (4-pack)'], ['Lightning Charging Cable']],\n",
       " '211992': [['iPhone'], ['Lightning Charging Cable']],\n",
       " '212216': [['AAA Batteries (4-pack)'], ['AAA Batteries (4-pack)']],\n",
       " '212544': [['iPhone'], ['Wired Headphones']],\n",
       " '212756': [['AAA Batteries (4-pack)'], ['Wired Headphones']],\n",
       " '212759': [['Wired Headphones'], ['USB-C Charging Cable']],\n",
       " '212813': [['AAA Batteries (4-pack)'], ['Bose SoundSport Headphones']],\n",
       " '213212': [['Google Phone'], ['USB-C Charging Cable']],\n",
       " '213231': [['AA Batteries (4-pack)'], ['27in 4K Gaming Monitor']],\n",
       " '213444': [['Vareebadd Phone'], ['Bose SoundSport Headphones']],\n",
       " '213738': [['Vareebadd Phone'], ['Wired Headphones']],\n",
       " '214441': [['Google Phone'], ['USB-C Charging Cable']],\n",
       " '214549': [['Google Phone'], ['USB-C Charging Cable']],\n",
       " '214705': [['Apple Airpods Headphones'], ['Wired Headphones']],\n",
       " '214973': [['AAA Batteries (4-pack)'], ['27in 4K Gaming Monitor']],\n",
       " '214990': [['34in Ultrawide Monitor'], ['AAA Batteries (4-pack)']],\n",
       " '215194': [['Google Phone'], ['Wired Headphones']],\n",
       " '216159': [['Google Phone'], ['Wired Headphones']],\n",
       " '216179': [['20in Monitor'], ['Wired Headphones']],\n",
       " '216558': [['AAA Batteries (4-pack)'], ['Vareebadd Phone']],\n",
       " '217185': [['AAA Batteries (4-pack)'], ['Bose SoundSport Headphones']],\n",
       " '218023': [['iPhone'], ['Lightning Charging Cable']],\n",
       " '218154': [['Google Phone'], ['USB-C Charging Cable']],\n",
       " '218244': [['AA Batteries (4-pack)'], ['ThinkPad Laptop']],\n",
       " '218274': [['iPhone'], ['Lightning Charging Cable']],\n",
       " '218595': [['Google Phone'], ['USB-C Charging Cable']],\n",
       " '218812': [['Google Phone'], ['Wired Headphones']],\n",
       " '218961': [['Google Phone'], ['Wired Headphones']],\n",
       " '218978': [['iPhone'], ['Lightning Charging Cable']],\n",
       " '219480': [['iPhone'], ['USB-C Charging Cable']],\n",
       " '219631': [['USB-C Charging Cable'], ['USB-C Charging Cable']],\n",
       " '220185': [['AAA Batteries (4-pack)'], ['Wired Headphones']],\n",
       " '220374': [['Lightning Charging Cable'], ['AAA Batteries (4-pack)']],\n",
       " '220484': [['Apple Airpods Headphones'], ['AAA Batteries (4-pack)']],\n",
       " '220779': [['AAA Batteries (4-pack)'], ['Bose SoundSport Headphones']],\n",
       " '220929': [['USB-C Charging Cable'], ['AA Batteries (4-pack)']],\n",
       " '221090': [['Lightning Charging Cable'], ['AA Batteries (4-pack)']],\n",
       " '221269': [['AA Batteries (4-pack)'], ['Lightning Charging Cable']],\n",
       " '222110': [['iPhone'], ['Wired Headphones']],\n",
       " '222157': [['Lightning Charging Cable'], ['ThinkPad Laptop']],\n",
       " '222344': [['27in FHD Monitor'], ['AAA Batteries (4-pack)']],\n",
       " '222473': [['Google Phone'], ['USB-C Charging Cable']],\n",
       " '295698': [['Vareebadd Phone'], ['USB-C Charging Cable']],\n",
       " '296730': [['27in 4K Gaming Monitor'], ['Wired Headphones']],\n",
       " '296850': [['Bose SoundSport Headphones'], ['AAA Batteries (4-pack)']],\n",
       " '297165': [['Lightning Charging Cable'], ['AAA Batteries (4-pack)']],\n",
       " '297452': [['Google Phone'], ['USB-C Charging Cable']],\n",
       " '297457': [['Google Phone'], ['USB-C Charging Cable']],\n",
       " '297817': [['iPhone'], ['Lightning Charging Cable']],\n",
       " '297951': [['USB-C Charging Cable'], ['Lightning Charging Cable']],\n",
       " '298118': [['Google Phone'], ['USB-C Charging Cable']],\n",
       " '298216': [['Lightning Charging Cable'], ['AAA Batteries (4-pack)']],\n",
       " '299550': [['Lightning Charging Cable'], ['AA Batteries (4-pack)']],\n",
       " '299586': [['iPhone'], ['Wired Headphones']],\n",
       " '300456': [['AAA Batteries (4-pack)'], ['USB-C Charging Cable']],\n",
       " '301246': [['AA Batteries (4-pack)'], ['Apple Airpods Headphones']],\n",
       " '301347': [['Lightning Charging Cable'], ['Apple Airpods Headphones']],\n",
       " '301832': [['AAA Batteries (4-pack)'], ['20in Monitor']],\n",
       " '301845': [['iPhone'], ['Wired Headphones']],\n",
       " '302322': [['20in Monitor'], ['Wired Headphones']],\n",
       " '302388': [['AAA Batteries (4-pack)'], ['Apple Airpods Headphones']],\n",
       " '302639': [['Google Phone'], ['USB-C Charging Cable']],\n",
       " '302708': [['Vareebadd Phone'], ['Wired Headphones']],\n",
       " '303043': [['USB-C Charging Cable'], ['AA Batteries (4-pack)']],\n",
       " '303458': [['USB-C Charging Cable'], ['ThinkPad Laptop']],\n",
       " '303527': [['iPhone'], ['Lightning Charging Cable']],\n",
       " '303592': [['USB-C Charging Cable'], ['Google Phone']],\n",
       " '303662': [['27in FHD Monitor'], ['AAA Batteries (4-pack)']],\n",
       " '304055': [['Flatscreen TV'], ['AAA Batteries (4-pack)']],\n",
       " '304056': [['AA Batteries (4-pack)'], ['ThinkPad Laptop']],\n",
       " '304501': [['Lightning Charging Cable'], ['ThinkPad Laptop']],\n",
       " '304644': [['ThinkPad Laptop'], ['AAA Batteries (4-pack)']],\n",
       " '304784': [['AAA Batteries (4-pack)'], ['Lightning Charging Cable']],\n",
       " '305258': [['AA Batteries (4-pack)'], ['AAA Batteries (4-pack)']],\n",
       " '305341': [['Lightning Charging Cable'], ['AA Batteries (4-pack)']],\n",
       " '305498': [['AAA Batteries (4-pack)'], ['iPhone']],\n",
       " '305862': [['iPhone'], ['Lightning Charging Cable']],\n",
       " '306909': [['Google Phone'], ['USB-C Charging Cable']],\n",
       " '307744': [['AA Batteries (4-pack)'], ['iPhone']],\n",
       " '307766': [['AA Batteries (4-pack)'], ['AAA Batteries (4-pack)']],\n",
       " '307859': [['USB-C Charging Cable'], ['AAA Batteries (4-pack)']],\n",
       " '308229': [['AA Batteries (4-pack)'], ['Bose SoundSport Headphones']],\n",
       " '308450': [['USB-C Charging Cable'], ['Wired Headphones']],\n",
       " '308453': [['27in FHD Monitor'], ['AAA Batteries (4-pack)']],\n",
       " '308507': [['Apple Airpods Headphones'], ['AA Batteries (4-pack)']],\n",
       " '308594': [['USB-C Charging Cable'], ['Vareebadd Phone']],\n",
       " '308608': [['Google Phone'], ['Wired Headphones']],\n",
       " '308807': [['AAA Batteries (4-pack)'], ['AAA Batteries (4-pack)']],\n",
       " '308992': [['Apple Airpods Headphones'], ['AAA Batteries (4-pack)']],\n",
       " '309706': [['AA Batteries (4-pack)'], ['AA Batteries (4-pack)']],\n",
       " '310415': [['iPhone'], ['Wired Headphones']],\n",
       " '310493': [['AAA Batteries (4-pack)'], ['AAA Batteries (4-pack)']],\n",
       " '310864': [['Google Phone'], ['USB-C Charging Cable']],\n",
       " '311397': [['Google Phone'], ['Wired Headphones']],\n",
       " '311630': [['34in Ultrawide Monitor'], ['AA Batteries (4-pack)']],\n",
       " '311650': [['Google Phone'], ['Wired Headphones']],\n",
       " '312201': [['AA Batteries (4-pack)'], ['20in Monitor']],\n",
       " '312544': [['Apple Airpods Headphones'], ['AAA Batteries (4-pack)']],\n",
       " '312861': [['Lightning Charging Cable'], ['AAA Batteries (4-pack)']],\n",
       " '312926': [['iPhone'], ['Lightning Charging Cable']],\n",
       " '312986': [['Lightning Charging Cable'], ['USB-C Charging Cable']],\n",
       " '313842': [['iPhone'], ['Lightning Charging Cable']],\n",
       " '314197': [['Bose SoundSport Headphones'], ['AA Batteries (4-pack)']],\n",
       " '314366': [['iPhone'], ['Lightning Charging Cable']],\n",
       " '314608': [['Google Phone'], ['Wired Headphones']],\n",
       " '314682': [['Google Phone'], ['Wired Headphones']],\n",
       " '314710': [['Bose SoundSport Headphones'], ['AA Batteries (4-pack)']],\n",
       " '315322': [['Google Phone'], ['USB-C Charging Cable']],\n",
       " '315887': [['Lightning Charging Cable'], ['USB-C Charging Cable']],\n",
       " '316416': [['AA Batteries (4-pack)'], ['Lightning Charging Cable']],\n",
       " '316935': [['Google Phone'], ['USB-C Charging Cable']],\n",
       " '317280': [['AAA Batteries (4-pack)'], ['USB-C Charging Cable']],\n",
       " '317302': [['Google Phone'], ['USB-C Charging Cable']],\n",
       " '317814': [['USB-C Charging Cable'], ['27in 4K Gaming Monitor']],\n",
       " '318075': [['AAA Batteries (4-pack)'], ['ThinkPad Laptop']],\n",
       " '318296': [['Wired Headphones'], ['AAA Batteries (4-pack)']],\n",
       " '318682': [['Vareebadd Phone'], ['Bose SoundSport Headphones']],\n",
       " '318685': [['AAA Batteries (4-pack)'], ['Wired Headphones']],\n",
       " '318854': [['Lightning Charging Cable'], ['AA Batteries (4-pack)']],\n",
       " '151216': [['iPhone'], ['Lightning Charging Cable']],\n",
       " '151262': [['iPhone'], ['Lightning Charging Cable']],\n",
       " '151299': [['LG Washing Machine'], ['Wired Headphones']],\n",
       " '151568': [['Google Phone'], ['Wired Headphones'], ['USB-C Charging Cable']],\n",
       " '151992': [['USB-C Charging Cable'], ['Apple Airpods Headphones']],\n",
       " '152002': [['34in Ultrawide Monitor'], ['AAA Batteries (4-pack)']],\n",
       " '152666': [['Google Phone'], ['Bose SoundSport Headphones']],\n",
       " '153432': [['iPhone'], ['Wired Headphones']],\n",
       " '153582': [['27in FHD Monitor'], ['Wired Headphones']],\n",
       " '154181': [['Wired Headphones'], ['Bose SoundSport Headphones']],\n",
       " '155031': [['Lightning Charging Cable'], ['Lightning Charging Cable']],\n",
       " '155209': [['27in 4K Gaming Monitor'], ['USB-C Charging Cable']],\n",
       " '155550': [['Google Phone'], ['AA Batteries (4-pack)']],\n",
       " '155567': [['Vareebadd Phone'], ['USB-C Charging Cable']],\n",
       " '155935': [['Google Phone'], ['USB-C Charging Cable']],\n",
       " '156188': [['Bose SoundSport Headphones'], ['Lightning Charging Cable']],\n",
       " '156239': [['Vareebadd Phone'], ['USB-C Charging Cable']],\n",
       " '157204': [['AAA Batteries (4-pack)'], ['Macbook Pro Laptop']],\n",
       " '157370': [['Lightning Charging Cable'], ['Wired Headphones']],\n",
       " '157399': [['iPhone'], ['Wired Headphones']],\n",
       " '158022': [['Lightning Charging Cable'], ['Wired Headphones']],\n",
       " '158337': [['Vareebadd Phone'], ['USB-C Charging Cable']],\n",
       " '158408': [['Wired Headphones'], ['27in 4K Gaming Monitor']],\n",
       " '159026': [['iPhone'], ['Wired Headphones']],\n",
       " '159204': [['Google Phone'], ['Wired Headphones']],\n",
       " '159804': [['Lightning Charging Cable'], ['Lightning Charging Cable']],\n",
       " '159952': [['Google Phone'], ['USB-C Charging Cable']],\n",
       " '160481': [['27in 4K Gaming Monitor'], ['AA Batteries (4-pack)']],\n",
       " '160656': [['Bose SoundSport Headphones'], ['AA Batteries (4-pack)']],\n",
       " '160787': [['Bose SoundSport Headphones'], ['USB-C Charging Cable']],\n",
       " '161159': [['USB-C Charging Cable'], ['Bose SoundSport Headphones']],\n",
       " '161263': [['Bose SoundSport Headphones'], ['AAA Batteries (4-pack)']],\n",
       " '161603': [['iPhone'], ['Lightning Charging Cable']],\n",
       " '161960': [['Vareebadd Phone'], ['USB-C Charging Cable']],\n",
       " '249498': [['AAA Batteries (4-pack)'], ['Lightning Charging Cable']],\n",
       " '249541': [['Wired Headphones'], ['AA Batteries (4-pack)']],\n",
       " '249663': [['Lightning Charging Cable'], ['Apple Airpods Headphones']],\n",
       " '249676': [['AAA Batteries (4-pack)'], ['AA Batteries (4-pack)']],\n",
       " '249774': [['AAA Batteries (4-pack)'], ['Apple Airpods Headphones']],\n",
       " '250344': [['Apple Airpods Headphones'], ['AAA Batteries (4-pack)']],\n",
       " '250374': [['Apple Airpods Headphones'], ['AA Batteries (4-pack)']],\n",
       " '250832': [['iPhone'], ['Lightning Charging Cable']],\n",
       " '250975': [['AAA Batteries (4-pack)'], ['34in Ultrawide Monitor']],\n",
       " '251084': [['Google Phone'], ['USB-C Charging Cable']],\n",
       " '251220': [['Wired Headphones'], ['Wired Headphones']],\n",
       " '251467': [['AA Batteries (4-pack)'], ['ThinkPad Laptop']],\n",
       " '252102': [['Wired Headphones'], ['AA Batteries (4-pack)']],\n",
       " '252568': [['iPhone'], ['Lightning Charging Cable']],\n",
       " '252794': [['LG Washing Machine'], ['AA Batteries (4-pack)']],\n",
       " '252844': [['iPhone'], ['Lightning Charging Cable']],\n",
       " '253425': [['Google Phone'], ['Wired Headphones']],\n",
       " '253514': [['iPhone'], ['AA Batteries (4-pack)']],\n",
       " '253590': [['AA Batteries (4-pack)'], ['USB-C Charging Cable']],\n",
       " '253662': [['Wired Headphones'], ['Apple Airpods Headphones']],\n",
       " '253759': [['AA Batteries (4-pack)'], ['Lightning Charging Cable']],\n",
       " '253968': [['Wired Headphones'], ['34in Ultrawide Monitor']],\n",
       " '254924': [['iPhone'], ['Lightning Charging Cable']],\n",
       " '255154': [['Google Phone'], ['USB-C Charging Cable']],\n",
       " '255264': [['Lightning Charging Cable'], ['34in Ultrawide Monitor']],\n",
       " '255413': [['AAA Batteries (4-pack)'], ['Lightning Charging Cable']],\n",
       " '255816': [['iPhone'], ['AAA Batteries (4-pack)']],\n",
       " '256560': [['iPhone'], ['Wired Headphones']],\n",
       " '257514': [['34in Ultrawide Monitor'], ['AA Batteries (4-pack)']],\n",
       " '257764': [['USB-C Charging Cable'], ['AAA Batteries (4-pack)']],\n",
       " '258376': [['Apple Airpods Headphones'], ['AA Batteries (4-pack)']],\n",
       " '258415': [['USB-C Charging Cable'], ['Wired Headphones']],\n",
       " '258418': [['Vareebadd Phone'], ['Wired Headphones']],\n",
       " '258545': [['iPhone'], ['Lightning Charging Cable']],\n",
       " '258582': [['Vareebadd Phone'], ['USB-C Charging Cable']],\n",
       " '258903': [['Apple Airpods Headphones'], ['AAA Batteries (4-pack)']],\n",
       " '259122': [['AAA Batteries (4-pack)'], ['AA Batteries (4-pack)']],\n",
       " '259277': [['iPhone'], ['Wired Headphones']],\n",
       " '259314': [['Wired Headphones'], ['AAA Batteries (4-pack)']],\n",
       " '176586': [['AAA Batteries (4-pack)'], ['Google Phone']],\n",
       " '176689': [['Bose SoundSport Headphones'], ['AAA Batteries (4-pack)']],\n",
       " '177198': [['Vareebadd Phone'], ['USB-C Charging Cable']],\n",
       " '177254': [['AA Batteries (4-pack)'], ['AAA Batteries (4-pack)']],\n",
       " '177592': [['iPhone'], ['Lightning Charging Cable']],\n",
       " '177782': [['Lightning Charging Cable'], ['27in 4K Gaming Monitor']],\n",
       " '178135': [['Lightning Charging Cable'], ['AA Batteries (4-pack)']],\n",
       " '178137': [['Lightning Charging Cable'], ['AA Batteries (4-pack)']],\n",
       " '178290': [['Wired Headphones'], ['ThinkPad Laptop']],\n",
       " '179311': [['Wired Headphones'], ['USB-C Charging Cable']],\n",
       " '180365': [['Lightning Charging Cable'], ['Google Phone']],\n",
       " '180382': [['AA Batteries (4-pack)'], ['AAA Batteries (4-pack)']],\n",
       " '180397': [['AA Batteries (4-pack)'], ['Apple Airpods Headphones']],\n",
       " '180422': [['Google Phone'], ['USB-C Charging Cable']],\n",
       " '181069': [['Macbook Pro Laptop'], ['34in Ultrawide Monitor']],\n",
       " '181131': [['AAA Batteries (4-pack)'], ['USB-C Charging Cable']],\n",
       " '181402': [['AA Batteries (4-pack)'], ['AAA Batteries (4-pack)']],\n",
       " '181807': [['iPhone'], ['Lightning Charging Cable']],\n",
       " '181917': [['Google Phone'], ['USB-C Charging Cable']],\n",
       " '182147': [['Vareebadd Phone'], ['USB-C Charging Cable']],\n",
       " '182692': [['AA Batteries (4-pack)'], ['Lightning Charging Cable']],\n",
       " '182731': [['iPhone'], ['Wired Headphones']],\n",
       " '182809': [['Macbook Pro Laptop'], ['AA Batteries (4-pack)']],\n",
       " '184022': [['Google Phone'], ['USB-C Charging Cable']],\n",
       " '184157': [['AA Batteries (4-pack)'], ['Bose SoundSport Headphones']],\n",
       " '184621': [['iPhone'], ['Lightning Charging Cable']],\n",
       " '184729': [['Vareebadd Phone'], ['Wired Headphones']],\n",
       " '185204': [['Lightning Charging Cable'], ['27in 4K Gaming Monitor']],\n",
       " '185649': [['Vareebadd Phone'], ['AA Batteries (4-pack)']],\n",
       " '185753': [['AA Batteries (4-pack)'], ['Lightning Charging Cable']],\n",
       " '186139': [['AA Batteries (4-pack)'], ['iPhone']],\n",
       " '186242': [['AAA Batteries (4-pack)'], ['AA Batteries (4-pack)']],\n",
       " '186370': [['Google Phone'], ['USB-C Charging Cable']],\n",
       " '186436': [['Google Phone'], ['Wired Headphones']],\n",
       " '186862': [['AAA Batteries (4-pack)'], ['USB-C Charging Cable']],\n",
       " '186989': [['Lightning Charging Cable'], ['AA Batteries (4-pack)']],\n",
       " '187888': [['iPhone'], ['Wired Headphones']],\n",
       " '188142': [['ThinkPad Laptop'], ['AA Batteries (4-pack)']],\n",
       " '188994': [['ThinkPad Laptop'], ['AA Batteries (4-pack)']],\n",
       " '189597': [['Vareebadd Phone'], ['Wired Headphones']],\n",
       " '189711': [['AA Batteries (4-pack)'], ['AA Batteries (4-pack)']],\n",
       " '191262': [['AA Batteries (4-pack)'], ['20in Monitor']],\n",
       " '191449': [['AA Batteries (4-pack)'], ['AA Batteries (4-pack)']],\n",
       " '191538': [['Google Phone'], ['USB-C Charging Cable']],\n",
       " '191610': [['AAA Batteries (4-pack)'], ['AA Batteries (4-pack)']],\n",
       " '191885': [['Google Phone'], ['Wired Headphones']],\n",
       " '192002': [['AA Batteries (4-pack)'], ['Lightning Charging Cable']],\n",
       " '192259': [['iPhone'], ['Wired Headphones']],\n",
       " '192814': [['Macbook Pro Laptop'], ['AAA Batteries (4-pack)']],\n",
       " '192917': [['AAA Batteries (4-pack)'], ['USB-C Charging Cable']],\n",
       " '192956': [['Google Phone'], ['Wired Headphones']],\n",
       " '193051': [['USB-C Charging Cable'], ['Macbook Pro Laptop']],\n",
       " '193184': [['Lightning Charging Cable'], ['AAA Batteries (4-pack)']],\n",
       " '193360': [['Vareebadd Phone'], ['AA Batteries (4-pack)']],\n",
       " '193616': [['Lightning Charging Cable'], ['AA Batteries (4-pack)']],\n",
       " '193653': [['Google Phone'], ['USB-C Charging Cable']],\n",
       " '236716': [['AA Batteries (4-pack)'], ['USB-C Charging Cable']],\n",
       " '237679': [['iPhone'], ['Lightning Charging Cable']],\n",
       " '238398': [['AA Batteries (4-pack)'], ['AAA Batteries (4-pack)']],\n",
       " '238936': [['Google Phone'], ['USB-C Charging Cable']],\n",
       " '239169': [['27in FHD Monitor'], ['AAA Batteries (4-pack)']],\n",
       " '239258': [['AA Batteries (4-pack)'], ['AAA Batteries (4-pack)']],\n",
       " '239290': [['Wired Headphones'], ['34in Ultrawide Monitor']],\n",
       " '239420': [['iPhone'], ['Wired Headphones']],\n",
       " '239568': [['AAA Batteries (4-pack)'], ['20in Monitor']],\n",
       " '240080': [['AAA Batteries (4-pack)'], ['AAA Batteries (4-pack)']],\n",
       " '240109': [['34in Ultrawide Monitor'], ['AA Batteries (4-pack)']],\n",
       " '240146': [['iPhone'], ['Lightning Charging Cable']],\n",
       " '240647': [['Google Phone'], ['USB-C Charging Cable']],\n",
       " '240692': [['AA Batteries (4-pack)'], ['AA Batteries (4-pack)']],\n",
       " '240742': [['AAA Batteries (4-pack)'], ['Wired Headphones']],\n",
       " '240774': [['Lightning Charging Cable'], ['Google Phone']],\n",
       " '240852': [['iPhone'], ['Lightning Charging Cable']],\n",
       " '240914': [['AA Batteries (4-pack)'], ['AA Batteries (4-pack)']],\n",
       " '241472': [['iPhone'], ['Wired Headphones']],\n",
       " '241528': [['Wired Headphones'], ['USB-C Charging Cable']],\n",
       " '241638': [['iPhone'], ['Wired Headphones']],\n",
       " '241675': [['AA Batteries (4-pack)'], ['20in Monitor']],\n",
       " '242507': [['AAA Batteries (4-pack)'], ['USB-C Charging Cable']],\n",
       " '243219': [['AA Batteries (4-pack)'], ['AA Batteries (4-pack)']],\n",
       " '243243': [['Bose SoundSport Headphones'], ['AAA Batteries (4-pack)']],\n",
       " '243547': [['Vareebadd Phone'], ['Wired Headphones']],\n",
       " '243921': [['iPhone'], ['Wired Headphones']],\n",
       " '243928': [['Wired Headphones'], ['AA Batteries (4-pack)']],\n",
       " '243947': [['Google Phone'], ['USB-C Charging Cable']],\n",
       " '244561': [['Vareebadd Phone'], ['USB-C Charging Cable']],\n",
       " '244756': [['Lightning Charging Cable'], ['Wired Headphones']],\n",
       " '244809': [['Lightning Charging Cable'], ['Wired Headphones']],\n",
       " '246165': [['USB-C Charging Cable'], ['AAA Batteries (4-pack)']],\n",
       " '246248': [['AAA Batteries (4-pack)'], ['USB-C Charging Cable']],\n",
       " '247127': [['Google Phone'], ['Wired Headphones']],\n",
       " '247293': [['Apple Airpods Headphones'], ['AAA Batteries (4-pack)']],\n",
       " '247490': [['USB-C Charging Cable'], ['Wired Headphones']],\n",
       " '247519': [['Vareebadd Phone'], ['AA Batteries (4-pack)']],\n",
       " '247788': [['iPhone'], ['Lightning Charging Cable']],\n",
       " '247988': [['USB-C Charging Cable'], ['AA Batteries (4-pack)']],\n",
       " '247989': [['AA Batteries (4-pack)'], ['iPhone']],\n",
       " '248053': [['AA Batteries (4-pack)'], ['20in Monitor']],\n",
       " '141789': [['Google Phone'], ['USB-C Charging Cable']],\n",
       " '142419': [['Google Phone'], ['Wired Headphones']],\n",
       " '142504': [['Google Phone'], ['USB-C Charging Cable']],\n",
       " '142727': [['Macbook Pro Laptop'], ['AA Batteries (4-pack)']],\n",
       " '143062': [['20in Monitor'], ['USB-C Charging Cable']],\n",
       " '143275': [['Google Phone'], ['USB-C Charging Cable']],\n",
       " '143436': [['Google Phone'], ['USB-C Charging Cable']],\n",
       " '144545': [['AAA Batteries (4-pack)'], ['AA Batteries (4-pack)']],\n",
       " '144551': [['iPhone'], ['Lightning Charging Cable']],\n",
       " '144851': [['Apple Airpods Headphones'], ['USB-C Charging Cable']],\n",
       " '144930': [['iPhone'], ['Wired Headphones']],\n",
       " '145169': [['iPhone'], ['Lightning Charging Cable']],\n",
       " '145300': [['Wired Headphones'], ['AAA Batteries (4-pack)']],\n",
       " '145579': [['AAA Batteries (4-pack)'], ['Lightning Charging Cable']],\n",
       " '145755': [['AA Batteries (4-pack)'], ['Wired Headphones']],\n",
       " '145866': [['Wired Headphones'], ['AAA Batteries (4-pack)']],\n",
       " '146006': [['Flatscreen TV'], ['AA Batteries (4-pack)']],\n",
       " '146407': [['LG Dryer'], ['AA Batteries (4-pack)']],\n",
       " '147139': [['Wired Headphones'], ['Apple Airpods Headphones']],\n",
       " '147179': [['Lightning Charging Cable'], ['AA Batteries (4-pack)']],\n",
       " '147366': [['Wired Headphones'], ['AA Batteries (4-pack)']],\n",
       " '147688': [['Vareebadd Phone'], ['USB-C Charging Cable']],\n",
       " '148522': [['AA Batteries (4-pack)'], ['Bose SoundSport Headphones']],\n",
       " '148696': [['USB-C Charging Cable'], ['ThinkPad Laptop']],\n",
       " '148948': [['iPhone'], ['Lightning Charging Cable']],\n",
       " '149482': [['AAA Batteries (4-pack)'], ['Lightning Charging Cable']],\n",
       " '149561': [['Google Phone'], ['Wired Headphones']],\n",
       " '149731': [['AA Batteries (4-pack)'], ['Apple Airpods Headphones']],\n",
       " '162066': [['AA Batteries (4-pack)'], ['USB-C Charging Cable']],\n",
       " '162161': [['Wired Headphones'], ['AAA Batteries (4-pack)']],\n",
       " '162557': [['iPhone'], ['Lightning Charging Cable']],\n",
       " '162854': [['iPhone'], ['Lightning Charging Cable']],\n",
       " '163171': [['Wired Headphones'], ['Flatscreen TV']],\n",
       " '163578': [['AA Batteries (4-pack)'], ['AA Batteries (4-pack)']],\n",
       " '164061': [['Lightning Charging Cable'], ['AAA Batteries (4-pack)']],\n",
       " '164541': [['Google Phone'], ['USB-C Charging Cable']],\n",
       " '164555': [['AAA Batteries (4-pack)'], ['USB-C Charging Cable']],\n",
       " '164659': [['AAA Batteries (4-pack)'], ['USB-C Charging Cable']],\n",
       " '164793': [['Google Phone'], ['USB-C Charging Cable']],\n",
       " '164903': [['Apple Airpods Headphones'], ['AA Batteries (4-pack)']],\n",
       " '164928': [['Lightning Charging Cable'], ['AA Batteries (4-pack)']],\n",
       " '165123': [['Wired Headphones'], ['Lightning Charging Cable']],\n",
       " '165217': [['USB-C Charging Cable'], ['ThinkPad Laptop']],\n",
       " '165241': [['Google Phone'], ['USB-C Charging Cable']],\n",
       " '165462': [['Google Phone'], ['Wired Headphones']],\n",
       " '165732': [['AAA Batteries (4-pack)'], ['AAA Batteries (4-pack)']],\n",
       " '165928': [['Vareebadd Phone'], ['USB-C Charging Cable']],\n",
       " '166794': [['iPhone'], ['Lightning Charging Cable']],\n",
       " '167222': [['AAA Batteries (4-pack)'], ['ThinkPad Laptop']],\n",
       " '168236': [['Google Phone'], ['Wired Headphones']],\n",
       " '168282': [['USB-C Charging Cable'], ['Flatscreen TV']],\n",
       " '168380': [['Lightning Charging Cable'], ['AAA Batteries (4-pack)']],\n",
       " '169167': [['Google Phone'], ['USB-C Charging Cable']],\n",
       " '169268': [['Apple Airpods Headphones'], ['Bose SoundSport Headphones']],\n",
       " '169830': [['Google Phone'], ['USB-C Charging Cable']],\n",
       " '169959': [['iPhone'], ['Wired Headphones']],\n",
       " '170215': [['Google Phone'], ['USB-C Charging Cable']],\n",
       " '170534': [['AA Batteries (4-pack)'], ['Flatscreen TV']],\n",
       " '170749': [['AAA Batteries (4-pack)'], ['USB-C Charging Cable']],\n",
       " '170781': [['Lightning Charging Cable'], ['AA Batteries (4-pack)']],\n",
       " '171026': [['USB-C Charging Cable'], ['AAA Batteries (4-pack)']],\n",
       " '171935': [['LG Washing Machine'], ['AAA Batteries (4-pack)']],\n",
       " '171945': [['Lightning Charging Cable'], ['Macbook Pro Laptop']],\n",
       " '172123': [['AAA Batteries (4-pack)'], ['Wired Headphones']],\n",
       " '172782': [['USB-C Charging Cable'], ['AA Batteries (4-pack)']],\n",
       " '172805': [['AA Batteries (4-pack)'], ['Bose SoundSport Headphones']],\n",
       " '172861': [['Vareebadd Phone'], ['Wired Headphones']],\n",
       " '173179': [['Apple Airpods Headphones'], ['AA Batteries (4-pack)']],\n",
       " '173421': [['Bose SoundSport Headphones'], ['iPhone']],\n",
       " '173438': [['AA Batteries (4-pack)'], ['AAA Batteries (4-pack)']],\n",
       " '173486': [['Wired Headphones'], ['USB-C Charging Cable']],\n",
       " '173803': [['USB-C Charging Cable'], ['USB-C Charging Cable']],\n",
       " '174404': [['Lightning Charging Cable'], ['Wired Headphones']],\n",
       " '174531': [['Lightning Charging Cable'], ['20in Monitor']],\n",
       " '175332': [['iPhone'], ['Lightning Charging Cable']],\n",
       " '176143': [['USB-C Charging Cable'], ['iPhone']],\n",
       " '194170': [['Google Phone'], ['USB-C Charging Cable']],\n",
       " '194179': [['Flatscreen TV'], ['AAA Batteries (4-pack)']],\n",
       " '194343': [['AAA Batteries (4-pack)'], ['AA Batteries (4-pack)']],\n",
       " '194588': [['ThinkPad Laptop'], ['AAA Batteries (4-pack)']],\n",
       " '194774': [['Vareebadd Phone'], ['27in FHD Monitor']],\n",
       " '195059': [['Wired Headphones'], ['27in FHD Monitor']],\n",
       " '195136': [['AA Batteries (4-pack)'], ['Vareebadd Phone']],\n",
       " '195700': [['Google Phone'], ['USB-C Charging Cable']],\n",
       " '196136': [['iPhone'], ['Lightning Charging Cable']],\n",
       " '196260': [['AA Batteries (4-pack)'], ['Wired Headphones']],\n",
       " '196469': [['USB-C Charging Cable'], ['Wired Headphones']],\n",
       " '197076': [['AAA Batteries (4-pack)'], ['AAA Batteries (4-pack)']],\n",
       " '197841': [['Apple Airpods Headphones'], ['AAA Batteries (4-pack)']],\n",
       " '197977': [['Wired Headphones'], ['AA Batteries (4-pack)']],\n",
       " '198005': [['Bose SoundSport Headphones'], ['AAA Batteries (4-pack)']],\n",
       " '198190': [['Wired Headphones'], ['iPhone']],\n",
       " '198215': [['AAA Batteries (4-pack)'], ['Google Phone']],\n",
       " '198453': [['AAA Batteries (4-pack)'], ['Bose SoundSport Headphones']],\n",
       " '198707': [['Wired Headphones'], ['AA Batteries (4-pack)']],\n",
       " '199374': [['Wired Headphones'], ['AAA Batteries (4-pack)']],\n",
       " '199431': [['AA Batteries (4-pack)'], ['AAA Batteries (4-pack)']],\n",
       " '199781': [['AAA Batteries (4-pack)'], ['Apple Airpods Headphones']],\n",
       " '200071': [['AA Batteries (4-pack)'], ['AAA Batteries (4-pack)']],\n",
       " '200278': [['Flatscreen TV'], ['AA Batteries (4-pack)']],\n",
       " '200333': [['AAA Batteries (4-pack)'], ['34in Ultrawide Monitor']],\n",
       " '200531': [['AAA Batteries (4-pack)'], ['USB-C Charging Cable']],\n",
       " '200645': [['20in Monitor'], ['AA Batteries (4-pack)']],\n",
       " '200650': [['Apple Airpods Headphones'], ['AAA Batteries (4-pack)']],\n",
       " '200757': [['Google Phone'], ['USB-C Charging Cable']],\n",
       " '201140': [['34in Ultrawide Monitor'], ['AAA Batteries (4-pack)']],\n",
       " '201288': [['iPhone'], ['Lightning Charging Cable']],\n",
       " '201700': [['AA Batteries (4-pack)'], ['20in Monitor']],\n",
       " '202097': [['Wired Headphones'], ['AA Batteries (4-pack)']],\n",
       " '202271': [['Wired Headphones'], ['Wired Headphones']],\n",
       " '202678': [['USB-C Charging Cable'], ['27in FHD Monitor']],\n",
       " '202925': [['Lightning Charging Cable'], ['Lightning Charging Cable']],\n",
       " '203100': [['27in 4K Gaming Monitor'], ['AAA Batteries (4-pack)']],\n",
       " '203190': [['AA Batteries (4-pack)'], ['Lightning Charging Cable']],\n",
       " '203736': [['USB-C Charging Cable'], ['AAA Batteries (4-pack)']],\n",
       " '203894': [['AA Batteries (4-pack)'], ['AAA Batteries (4-pack)']],\n",
       " '203984': [['iPhone'], ['Wired Headphones']],\n",
       " '204271': [['iPhone'], ['Lightning Charging Cable']],\n",
       " '204581': [['Bose SoundSport Headphones'], ['AA Batteries (4-pack)']],\n",
       " '204899': [['USB-C Charging Cable'], ['AAA Batteries (4-pack)']],\n",
       " '205607': [['AA Batteries (4-pack)'], ['AA Batteries (4-pack)']],\n",
       " '206014': [['Wired Headphones'], ['AAA Batteries (4-pack)']],\n",
       " '206353': [['AA Batteries (4-pack)'], ['USB-C Charging Cable']],\n",
       " '206404': [['AAA Batteries (4-pack)'], ['AAA Batteries (4-pack)']],\n",
       " '206476': [['Bose SoundSport Headphones'], ['Lightning Charging Cable']],\n",
       " '207004': [['AAA Batteries (4-pack)'], ['Wired Headphones']],\n",
       " '207233': [['Google Phone'], ['USB-C Charging Cable']],\n",
       " '207525': [['Google Phone'], ['USB-C Charging Cable']],\n",
       " '207677': [['AAA Batteries (4-pack)'], ['AA Batteries (4-pack)']],\n",
       " '207828': [['iPhone'], ['Lightning Charging Cable']],\n",
       " '208228': [['AAA Batteries (4-pack)'], ['Wired Headphones']],\n",
       " '208388': [['Vareebadd Phone'], ['USB-C Charging Cable']],\n",
       " '208577': [['Wired Headphones'], ['AA Batteries (4-pack)']],\n",
       " '208853': [['AAA Batteries (4-pack)'], ['34in Ultrawide Monitor']],\n",
       " '209810': [['AA Batteries (4-pack)'], ['USB-C Charging Cable']],\n",
       " '259420': [['Google Phone'], ['USB-C Charging Cable']],\n",
       " '259537': [['AAA Batteries (4-pack)'], ['USB-C Charging Cable']],\n",
       " '259923': [['AA Batteries (4-pack)'], ['AAA Batteries (4-pack)']],\n",
       " '260697': [['Google Phone'], ['Wired Headphones']],\n",
       " '260752': [['USB-C Charging Cable'], ['Flatscreen TV']],\n",
       " '260759': [['Vareebadd Phone'], ['USB-C Charging Cable']],\n",
       " '261149': [['Google Phone'], ['Wired Headphones']],\n",
       " '261192': [['AAA Batteries (4-pack)'], ['Lightning Charging Cable']],\n",
       " '261466': [['iPhone'], ['Wired Headphones']],\n",
       " '261470': [['Vareebadd Phone'], ['USB-C Charging Cable']],\n",
       " '262047': [['USB-C Charging Cable'], ['AAA Batteries (4-pack)']],\n",
       " '262165': [['Google Phone'], ['Wired Headphones']],\n",
       " '262293': [['27in FHD Monitor'], ['AA Batteries (4-pack)']],\n",
       " '262514': [['iPhone'], ['Wired Headphones']],\n",
       " '262842': [['Google Phone'], ['USB-C Charging Cable']],\n",
       " '263249': [['USB-C Charging Cable'], ['20in Monitor']],\n",
       " '263676': [['AAA Batteries (4-pack)'], ['Wired Headphones']],\n",
       " '263971': [['AAA Batteries (4-pack)'], ['Google Phone']],\n",
       " '264061': [['USB-C Charging Cable'], ['Lightning Charging Cable']],\n",
       " '264445': [['27in 4K Gaming Monitor'], ['AAA Batteries (4-pack)']],\n",
       " '264712': [['USB-C Charging Cable'], ['Macbook Pro Laptop']],\n",
       " '266286': [['AAA Batteries (4-pack)'], ['AAA Batteries (4-pack)']],\n",
       " '266431': [['Bose SoundSport Headphones'], ['Lightning Charging Cable']],\n",
       " '266504': [['ThinkPad Laptop'], ['AA Batteries (4-pack)']],\n",
       " '267013': [['Lightning Charging Cable'], ['AAA Batteries (4-pack)']],\n",
       " '267184': [['AAA Batteries (4-pack)'], ['Wired Headphones']],\n",
       " '267325': [['Wired Headphones'], ['Lightning Charging Cable']],\n",
       " '267355': [['AA Batteries (4-pack)'], ['AA Batteries (4-pack)']],\n",
       " '267464': [['Vareebadd Phone'], ['USB-C Charging Cable']],\n",
       " '267741': [['Google Phone'], ['Wired Headphones']],\n",
       " '268012': [['Lightning Charging Cable'], ['Lightning Charging Cable']],\n",
       " '268021': [['AA Batteries (4-pack)'], ['20in Monitor']],\n",
       " '268060': [['USB-C Charging Cable'], ['Lightning Charging Cable']],\n",
       " '268093': [['AA Batteries (4-pack)'], ['AAA Batteries (4-pack)']],\n",
       " '268195': [['Wired Headphones'], ['AAA Batteries (4-pack)']],\n",
       " '269114': [['Wired Headphones'], ['AAA Batteries (4-pack)']],\n",
       " '269745': [['27in 4K Gaming Monitor'], ['USB-C Charging Cable']],\n",
       " '270228': [['Vareebadd Phone'], ['USB-C Charging Cable']],\n",
       " '270375': [['iPhone'], ['Lightning Charging Cable']],\n",
       " '270941': [['Lightning Charging Cable'], ['Bose SoundSport Headphones']],\n",
       " '271581': [['Google Phone'], ['USB-C Charging Cable']],\n",
       " '271681': [['USB-C Charging Cable'], ['AA Batteries (4-pack)']],\n",
       " '271802': [['AA Batteries (4-pack)'], ['Flatscreen TV']],\n",
       " '271880': [['Lightning Charging Cable'], ['Lightning Charging Cable']],\n",
       " '272121': [['Google Phone'], ['Wired Headphones']],\n",
       " '272132': [['AA Batteries (4-pack)'], ['27in FHD Monitor']],\n",
       " '272154': [['Google Phone'], ['USB-C Charging Cable']],\n",
       " '272941': [['Lightning Charging Cable'], ['Wired Headphones']],\n",
       " '273419': [['AAA Batteries (4-pack)'], ['USB-C Charging Cable']],\n",
       " '273493': [['iPhone'], ['Lightning Charging Cable']],\n",
       " '273666': [['AA Batteries (4-pack)'], ['AA Batteries (4-pack)']],\n",
       " '274066': [['iPhone'], ['Lightning Charging Cable']],\n",
       " '274262': [['Flatscreen TV'], ['USB-C Charging Cable']],\n",
       " '274431': [['Wired Headphones'], ['USB-C Charging Cable']],\n",
       " '274631': [['Apple Airpods Headphones'], ['AAA Batteries (4-pack)']],\n",
       " '275606': [['Lightning Charging Cable'], ['34in Ultrawide Monitor']],\n",
       " '275647': [['Wired Headphones'], ['AA Batteries (4-pack)']],\n",
       " '275760': [['iPhone'], ['Lightning Charging Cable']],\n",
       " '275921': [['Lightning Charging Cable'], ['AA Batteries (4-pack)']],\n",
       " '275959': [['Wired Headphones'], ['27in 4K Gaming Monitor']],\n",
       " '275979': [['Vareebadd Phone'], ['USB-C Charging Cable']],\n",
       " '276240': [['Bose SoundSport Headphones'], ['AAA Batteries (4-pack)']],\n",
       " '276249': [['Google Phone'], ['USB-C Charging Cable']],\n",
       " '276332': [['Lightning Charging Cable'], ['Bose SoundSport Headphones']],\n",
       " '276393': [['AA Batteries (4-pack)'], ['AA Batteries (4-pack)']],\n",
       " '277136': [['AA Batteries (4-pack)'], ['34in Ultrawide Monitor']],\n",
       " '277219': [['Lightning Charging Cable'], ['Wired Headphones']],\n",
       " '278415': [['AAA Batteries (4-pack)'], ['iPhone']],\n",
       " '278833': [['iPhone'], ['Lightning Charging Cable']],\n",
       " '278857': [['USB-C Charging Cable'], ['AAA Batteries (4-pack)']],\n",
       " '279398': [['Apple Airpods Headphones'], ['AAA Batteries (4-pack)']],\n",
       " '279605': [['Apple Airpods Headphones'], ['USB-C Charging Cable']],\n",
       " '279746': [['USB-C Charging Cable'], ['Wired Headphones']],\n",
       " '279827': [['Apple Airpods Headphones'], ['AA Batteries (4-pack)']],\n",
       " '279874': [['AA Batteries (4-pack)'], ['Wired Headphones']],\n",
       " '280783': [['iPhone'], ['Lightning Charging Cable']],\n",
       " '280883': [['Lightning Charging Cable'], ['AA Batteries (4-pack)']],\n",
       " '282079': [['iPhone'], ['Wired Headphones']],\n",
       " '282464': [['Macbook Pro Laptop'], ['USB-C Charging Cable']],\n",
       " '282926': [['AAA Batteries (4-pack)'], ['ThinkPad Laptop']],\n",
       " '283005': [['Google Phone'], ['USB-C Charging Cable']],\n",
       " '283238': [['Lightning Charging Cable'], ['Lightning Charging Cable']],\n",
       " '283264': [['Google Phone'], ['USB-C Charging Cable']],\n",
       " '283278': [['Apple Airpods Headphones'], ['Lightning Charging Cable']],\n",
       " '283315': [['AAA Batteries (4-pack)'], ['Lightning Charging Cable']],\n",
       " '283561': [['Google Phone'], ['USB-C Charging Cable']],\n",
       " '283562': [['Google Phone'], ['Wired Headphones']],\n",
       " '284012': [['Google Phone'], ['USB-C Charging Cable']],\n",
       " '284035': [['Bose SoundSport Headphones'], ['AA Batteries (4-pack)']],\n",
       " '284097': [['Wired Headphones'], ['Lightning Charging Cable']],\n",
       " '284576': [['Google Phone'], ['USB-C Charging Cable']],\n",
       " '284648': [['iPhone'], ['Lightning Charging Cable']],\n",
       " '284704': [['AA Batteries (4-pack)'], ['AA Batteries (4-pack)']],\n",
       " '285096': [['iPhone'], ['Wired Headphones']],\n",
       " '285614': [['Bose SoundSport Headphones'], ['AAA Batteries (4-pack)']],\n",
       " '286135': [['Wired Headphones'], ['USB-C Charging Cable']],\n",
       " '286856': [['Google Phone'], ['Wired Headphones']],\n",
       " '286919': [['AA Batteries (4-pack)'], ['Wired Headphones']],\n",
       " '287036': [['Google Phone'], ['USB-C Charging Cable']],\n",
       " '287536': [['USB-C Charging Cable'], ['AAA Batteries (4-pack)']],\n",
       " '287902': [['Lightning Charging Cable'], ['AAA Batteries (4-pack)']],\n",
       " '288148': [['AAA Batteries (4-pack)'], ['USB-C Charging Cable']],\n",
       " '288484': [['Google Phone'], ['USB-C Charging Cable']],\n",
       " '288541': [['Vareebadd Phone'], ['AA Batteries (4-pack)']],\n",
       " '288583': [['AAA Batteries (4-pack)'], ['AA Batteries (4-pack)']],\n",
       " '288746': [['AA Batteries (4-pack)'], ['Lightning Charging Cable']],\n",
       " '288823': [['Google Phone'], ['USB-C Charging Cable']],\n",
       " '288849': [['Lightning Charging Cable'], ['Vareebadd Phone']],\n",
       " '289357': [['27in 4K Gaming Monitor'], ['AAA Batteries (4-pack)']],\n",
       " '290372': [['iPhone'], ['Lightning Charging Cable']],\n",
       " '290872': [['20in Monitor'], ['AAA Batteries (4-pack)']],\n",
       " '291030': [['Google Phone'], ['Wired Headphones']],\n",
       " '291120': [['AA Batteries (4-pack)'], ['USB-C Charging Cable']],\n",
       " '291699': [['Lightning Charging Cable'], ['Wired Headphones']],\n",
       " '292508': [['Lightning Charging Cable'], ['27in FHD Monitor']],\n",
       " '292674': [['AAA Batteries (4-pack)'], ['AAA Batteries (4-pack)']],\n",
       " '292709': [['Wired Headphones'], ['Lightning Charging Cable']],\n",
       " '292727': [['Google Phone'], ['USB-C Charging Cable']],\n",
       " '293079': [['AA Batteries (4-pack)'], ['AAA Batteries (4-pack)']],\n",
       " '293340': [['AAA Batteries (4-pack)'], ['Google Phone']],\n",
       " '293916': [['AA Batteries (4-pack)'], ['ThinkPad Laptop']],\n",
       " '293976': [['AAA Batteries (4-pack)'], ['Google Phone']],\n",
       " '294439': [['USB-C Charging Cable'], ['Lightning Charging Cable']],\n",
       " '295121': [['Lightning Charging Cable'], ['Bose SoundSport Headphones']],\n",
       " '295247': [['Lightning Charging Cable'], ['Wired Headphones']],\n",
       " '295312': [['Google Phone'], ['USB-C Charging Cable']],\n",
       " '223048': [['Vareebadd Phone'], ['USB-C Charging Cable']],\n",
       " '223695': [['27in FHD Monitor'], ['LG Washing Machine']],\n",
       " '223758': [['Wired Headphones'], ['AA Batteries (4-pack)']],\n",
       " '223885': [['27in FHD Monitor'], ['AA Batteries (4-pack)']],\n",
       " '224960': [['iPhone'], ['AAA Batteries (4-pack)']],\n",
       " '225017': [['iPhone'], ['Lightning Charging Cable']],\n",
       " '225171': [['Macbook Pro Laptop'], ['USB-C Charging Cable']],\n",
       " '225280': [['34in Ultrawide Monitor'], ['AA Batteries (4-pack)']],\n",
       " '225323': [['Apple Airpods Headphones'], ['Wired Headphones']],\n",
       " '225543': [['AAA Batteries (4-pack)'], ['27in FHD Monitor']],\n",
       " '225766': [['27in 4K Gaming Monitor'], ['Wired Headphones']],\n",
       " '225788': [['iPhone'], ['Lightning Charging Cable']],\n",
       " '226129': [['Google Phone'], ['USB-C Charging Cable']],\n",
       " '226188': [['ThinkPad Laptop'], ['Lightning Charging Cable']],\n",
       " '226363': [['USB-C Charging Cable'], ['USB-C Charging Cable']],\n",
       " '227521': [['AAA Batteries (4-pack)'], ['Wired Headphones']],\n",
       " '227718': [['Google Phone'], ['Wired Headphones']],\n",
       " '227809': [['Apple Airpods Headphones'], ['USB-C Charging Cable']],\n",
       " '228391': [['AAA Batteries (4-pack)'], ['USB-C Charging Cable']],\n",
       " '228457': [['USB-C Charging Cable'], ['Bose SoundSport Headphones']],\n",
       " '228714': [['USB-C Charging Cable'], ['Lightning Charging Cable']],\n",
       " '229332': [['AAA Batteries (4-pack)'], ['iPhone']],\n",
       " '229414': [['Google Phone'], ['Wired Headphones']],\n",
       " '230342': [['USB-C Charging Cable'], ['Lightning Charging Cable']],\n",
       " '230600': [['AA Batteries (4-pack)'], ['Wired Headphones']],\n",
       " '230722': [['Vareebadd Phone'], ['USB-C Charging Cable']],\n",
       " '230839': [['Wired Headphones'], ['AAA Batteries (4-pack)']],\n",
       " '230870': [['AA Batteries (4-pack)'], ['AAA Batteries (4-pack)']],\n",
       " '230990': [['Google Phone'], ['USB-C Charging Cable']],\n",
       " '232314': [['Macbook Pro Laptop'], ['AAA Batteries (4-pack)']],\n",
       " '232362': [['USB-C Charging Cable'], ['Lightning Charging Cable']],\n",
       " '232760': [['Wired Headphones'], ['iPhone']],\n",
       " '232935': [['iPhone'], ['Lightning Charging Cable']],\n",
       " '233246': [['Flatscreen TV'], ['USB-C Charging Cable']],\n",
       " '233433': [['AA Batteries (4-pack)'], ['Apple Airpods Headphones']],\n",
       " '233468': [['Wired Headphones'], ['AA Batteries (4-pack)']],\n",
       " '233892': [['iPhone'], ['Lightning Charging Cable']],\n",
       " '234093': [['20in Monitor'], ['AA Batteries (4-pack)']],\n",
       " '234182': [['AA Batteries (4-pack)'], ['Bose SoundSport Headphones']],\n",
       " '234628': [['AA Batteries (4-pack)'], ['Bose SoundSport Headphones']],\n",
       " '235053': [['AAA Batteries (4-pack)'], ['Macbook Pro Laptop']],\n",
       " '235118': [['AAA Batteries (4-pack)'], ['USB-C Charging Cable']],\n",
       " '235168': [['iPhone'], ['Lightning Charging Cable']],\n",
       " '235200': [['AA Batteries (4-pack)'], ['Vareebadd Phone']],\n",
       " '235275': [['USB-C Charging Cable'], ['34in Ultrawide Monitor']],\n",
       " '235571': [['AA Batteries (4-pack)'], ['AAA Batteries (4-pack)']],\n",
       " '235720': [['AA Batteries (4-pack)'], ['27in 4K Gaming Monitor']],\n",
       " '235773': [['Lightning Charging Cable'], ['USB-C Charging Cable']],\n",
       " '235923': [['LG Washing Machine'], ['Lightning Charging Cable']],\n",
       " '236132': [['ThinkPad Laptop'], ['AA Batteries (4-pack)']],\n",
       " '236539': [['iPhone'], ['Apple Airpods Headphones']],\n",
       " '236546': [['ThinkPad Laptop'], ['AAA Batteries (4-pack)']]}"
      ]
     },
     "execution_count": 42,
     "metadata": {},
     "output_type": "execute_result"
    }
   ],
   "source": [
    "for i_d in one_product_order_id_dict.keys():\n",
    "    one_product_order_id_dict[i_d] = []\n",
    "    for data in product_sales_data:\n",
    "        if i_d == data[0]:\n",
    "            one_product_order_id_dict[i_d].append(data[1])\n",
    "one_product_order_id_dict"
   ]
  },
  {
   "cell_type": "code",
   "execution_count": null,
   "id": "01a21f39-e7c0-4b64-bca3-0c57204e8f9c",
   "metadata": {},
   "outputs": [],
   "source": [
    "###### terminar después"
   ]
  },
  {
   "cell_type": "code",
   "execution_count": 40,
   "id": "17993dfb-43e0-48f6-a128-972bacb79203",
   "metadata": {},
   "outputs": [],
   "source": [
    "two_product_order_list = []\n",
    "for i_d in two_product_order_id_dict:\n",
    "    two_product_order_list.append(two_product_order_id_dict[i_d])\n",
    "\n",
    "  \n",
    "    #two_product_order_id_dict.count(two_product_order_id_dict[id])"
   ]
  },
  {
   "cell_type": "code",
   "execution_count": 41,
   "id": "046cec1c-240f-47dd-86af-9b4af68ff44d",
   "metadata": {},
   "outputs": [],
   "source": [
    "yy = 'AAA Batteries (4-pack)'\n",
    "zz = 'AA Batteries (4-pack)'"
   ]
  },
  {
   "cell_type": "code",
   "execution_count": 43,
   "id": "f33aa592-a8dc-420a-84b9-73eb81ed1864",
   "metadata": {},
   "outputs": [],
   "source": []
  },
  {
   "cell_type": "code",
   "execution_count": 47,
   "id": "67dd1f55-022d-4a14-b71d-665f52bca3aa",
   "metadata": {},
   "outputs": [
    {
     "name": "stdout",
     "output_type": "stream",
     "text": [
      "Los siguientes productos se venden juntos y de a dos:AAA Batteries (4-pack)-AA Batteries (4-pack).\n"
     ]
    }
   ],
   "source": [
    "print(f'Los siguientes productos se venden juntos y de a dos:{yy}-{zz}.')"
   ]
  },
  {
   "cell_type": "markdown",
   "id": "b418bb5b-635b-4195-9338-5e0236d80db3",
   "metadata": {},
   "source": [
    "Los paquetes de 4 pilas AAA y AA son los productos que más se venden juntos, sean de a uno o de a dos."
   ]
  },
  {
   "cell_type": "markdown",
   "id": "4efe8ffa-a881-42a0-bec9-c172f48d5722",
   "metadata": {},
   "source": [
    "**8)** ¿Cuál es el producto más vendido?\n",
    "*Se espera*: `El producto más vendido es {x}`"
   ]
  },
  {
   "cell_type": "code",
   "execution_count": 54,
   "id": "afe552e8-3421-4a00-aad6-899235a1a076",
   "metadata": {},
   "outputs": [
    {
     "data": {
      "text/plain": [
       "'USB-C Charging Cable'"
      ]
     },
     "execution_count": 54,
     "metadata": {},
     "output_type": "execute_result"
    }
   ],
   "source": [
    "products_list = []\n",
    "\n",
    "for sale in sales_data:       \n",
    "     products_list.append(sale['Product'])\n",
    "# formato: ['209921', 'USB-C Charging Cable', 1]\n",
    "products_list[0]"
   ]
  },
  {
   "cell_type": "code",
   "execution_count": 55,
   "id": "1687974c-aab8-47da-9591-f35f4f8eaa52",
   "metadata": {},
   "outputs": [
    {
     "data": {
      "text/plain": [
       "{'20in Monitor',\n",
       " '27in 4K Gaming Monitor',\n",
       " '27in FHD Monitor',\n",
       " '34in Ultrawide Monitor',\n",
       " 'AA Batteries (4-pack)',\n",
       " 'AAA Batteries (4-pack)',\n",
       " 'Apple Airpods Headphones',\n",
       " 'Bose SoundSport Headphones',\n",
       " 'Flatscreen TV',\n",
       " 'Google Phone',\n",
       " 'LG Dryer',\n",
       " 'LG Washing Machine',\n",
       " 'Lightning Charging Cable',\n",
       " 'Macbook Pro Laptop',\n",
       " 'ThinkPad Laptop',\n",
       " 'USB-C Charging Cable',\n",
       " 'Vareebadd Phone',\n",
       " 'Wired Headphones',\n",
       " 'iPhone'}"
      ]
     },
     "execution_count": 55,
     "metadata": {},
     "output_type": "execute_result"
    }
   ],
   "source": [
    "products_set = set(products_list)\n",
    "products_set"
   ]
  },
  {
   "cell_type": "code",
   "execution_count": 61,
   "id": "54d337bd-2387-45b9-8789-c6f4da30b5f0",
   "metadata": {},
   "outputs": [],
   "source": [
    "products_dict = {}\n",
    "for product in products_set:\n",
    "    products_dict[product] = 0\n",
    "#products_dict"
   ]
  },
  {
   "cell_type": "code",
   "execution_count": 63,
   "id": "c243e707-127d-4940-8a44-1a2ab4c92879",
   "metadata": {},
   "outputs": [
    {
     "data": {
      "text/plain": [
       "{'USB-C Charging Cable': 21903,\n",
       " 'iPhone': 6842,\n",
       " 'LG Dryer': 646,\n",
       " 'Bose SoundSport Headphones': 13325,\n",
       " '20in Monitor': 4101,\n",
       " 'Wired Headphones': 18882,\n",
       " 'LG Washing Machine': 666,\n",
       " '27in 4K Gaming Monitor': 6230,\n",
       " 'Vareebadd Phone': 2065,\n",
       " 'Flatscreen TV': 4800,\n",
       " '34in Ultrawide Monitor': 6181,\n",
       " '27in FHD Monitor': 7507,\n",
       " 'Google Phone': 5525,\n",
       " 'Macbook Pro Laptop': 4724,\n",
       " 'AA Batteries (4-pack)': 20577,\n",
       " 'Lightning Charging Cable': 21658,\n",
       " 'AAA Batteries (4-pack)': 20641,\n",
       " 'ThinkPad Laptop': 4128,\n",
       " 'Apple Airpods Headphones': 15549}"
      ]
     },
     "execution_count": 63,
     "metadata": {},
     "output_type": "execute_result"
    }
   ],
   "source": [
    "for product in products_dict.keys():\n",
    "    products_dict[product] = products_list.count(product)\n",
    "products_dict"
   ]
  },
  {
   "cell_type": "code",
   "execution_count": 64,
   "id": "17929ed0-aada-4a9a-b08e-faff72002de4",
   "metadata": {},
   "outputs": [
    {
     "data": {
      "text/plain": [
       "21903"
      ]
     },
     "execution_count": 64,
     "metadata": {},
     "output_type": "execute_result"
    }
   ],
   "source": [
    "product_amount = []\n",
    "\n",
    "for product in products_dict.keys():\n",
    "    product_amount.append(products_dict[product])\n",
    "\n",
    "amount_most_sold_product = max(product_amount)\n",
    "amount_most_sold_product    "
   ]
  },
  {
   "cell_type": "code",
   "execution_count": 65,
   "id": "75e58c56-0d07-4b4c-8bd6-aa42b7960dec",
   "metadata": {},
   "outputs": [
    {
     "data": {
      "text/plain": [
       "'USB-C Charging Cable'"
      ]
     },
     "execution_count": 65,
     "metadata": {},
     "output_type": "execute_result"
    }
   ],
   "source": [
    "for product in products_dict.keys():\n",
    "    if amount_most_sold_product == products_dict[product]:\n",
    "        most_sold_product = product\n",
    "most_sold_product"
   ]
  },
  {
   "cell_type": "code",
   "execution_count": 66,
   "id": "34a3fbd1-c2ee-4e55-ab10-7bdfc0d7db03",
   "metadata": {},
   "outputs": [
    {
     "name": "stdout",
     "output_type": "stream",
     "text": [
      "El producto más vendido es USB-C Charging Cable.\n"
     ]
    }
   ],
   "source": [
    "print(f'El producto más vendido es {most_sold_product}.')"
   ]
  },
  {
   "cell_type": "markdown",
   "id": "ea92f40c-ffb1-4d31-a4cd-7eeac220d93d",
   "metadata": {},
   "source": [
    "**9)** ¿Cuál es la relación entre el precio del producto más vendido y el del menos vendido?\n",
    "*Se espera:* `El precio del producto más vendido es {n} veces mayor/menor que el producto menos vendido`"
   ]
  },
  {
   "cell_type": "code",
   "execution_count": 67,
   "id": "c5bc7271-e66f-44cc-8c0a-d9eb20e4cadd",
   "metadata": {},
   "outputs": [
    {
     "data": {
      "text/plain": [
       "646"
      ]
     },
     "execution_count": 67,
     "metadata": {},
     "output_type": "execute_result"
    }
   ],
   "source": [
    "amount_worst_sold_product = min(product_amount)\n",
    "amount_worst_sold_product    "
   ]
  },
  {
   "cell_type": "code",
   "execution_count": 68,
   "id": "fee72603-a31c-4cca-af5e-8b1123915572",
   "metadata": {},
   "outputs": [
    {
     "data": {
      "text/plain": [
       "'LG Dryer'"
      ]
     },
     "execution_count": 68,
     "metadata": {},
     "output_type": "execute_result"
    }
   ],
   "source": [
    "for product in products_dict.keys():\n",
    "    if amount_worst_sold_product == products_dict[product]:\n",
    "        worst_sold_product = product\n",
    "worst_sold_product"
   ]
  },
  {
   "cell_type": "code",
   "execution_count": 70,
   "id": "e5058a8d-5919-4132-9b20-52fe14abbca0",
   "metadata": {},
   "outputs": [],
   "source": [
    "products_price_dict = {}\n",
    "\n",
    "for product in products_set:\n",
    "    products_price_dict[product] = 0\n",
    "    \n",
    "#products_price_dict"
   ]
  },
  {
   "cell_type": "code",
   "execution_count": 71,
   "id": "1c323d4f-0934-4b1a-adeb-333a8eac9ba0",
   "metadata": {},
   "outputs": [
    {
     "data": {
      "text/plain": [
       "{'USB-C Charging Cable': 11.95,\n",
       " 'Macbook Pro Laptop': 1700.0,\n",
       " 'ThinkPad Laptop': 999.99,\n",
       " '27in FHD Monitor': 149.99,\n",
       " 'Bose SoundSport Headphones': 99.99,\n",
       " 'Apple Airpods Headphones': 150.0,\n",
       " 'Lightning Charging Cable': 14.95,\n",
       " 'Wired Headphones': 11.99,\n",
       " 'Flatscreen TV': 300.0,\n",
       " 'AA Batteries (4-pack)': 3.84,\n",
       " 'AAA Batteries (4-pack)': 2.99,\n",
       " '34in Ultrawide Monitor': 379.99,\n",
       " 'iPhone': 700.0,\n",
       " 'Google Phone': 600.0,\n",
       " '27in 4K Gaming Monitor': 389.99,\n",
       " '20in Monitor': 109.99,\n",
       " 'LG Dryer': 600.0,\n",
       " 'Vareebadd Phone': 400.0,\n",
       " 'LG Washing Machine': 600.0}"
      ]
     },
     "execution_count": 71,
     "metadata": {},
     "output_type": "execute_result"
    }
   ],
   "source": [
    "products_price_dict = {}\n",
    "\n",
    "for sale in sales_data:\n",
    "    for product in products_dict.keys():\n",
    "        if product == sale['Product']:\n",
    "            products_price_dict[product] = round(float(sale['Price Each']),2)\n",
    "products_price_dict"
   ]
  },
  {
   "cell_type": "code",
   "execution_count": 72,
   "id": "ea7abdcf-2ca8-4a9a-ba03-4d5c4ccef332",
   "metadata": {},
   "outputs": [
    {
     "name": "stdout",
     "output_type": "stream",
     "text": [
      "11.95\n",
      "600.0\n"
     ]
    }
   ],
   "source": [
    "for product in products_price_dict.keys():\n",
    "    if worst_sold_product == product:\n",
    "        worst_sold_product_price = products_price_dict[product]\n",
    "    elif most_sold_product == product:\n",
    "        most_sold_product_price = products_price_dict[product]\n",
    "print(most_sold_product_price)\n",
    "print(worst_sold_product_price)"
   ]
  },
  {
   "cell_type": "code",
   "execution_count": 73,
   "id": "fe0a75f3-9928-41ba-ae42-07c4f8e4123e",
   "metadata": {},
   "outputs": [
    {
     "data": {
      "text/plain": [
       "50"
      ]
     },
     "execution_count": 73,
     "metadata": {},
     "output_type": "execute_result"
    }
   ],
   "source": [
    "n= int(worst_sold_product_price / most_sold_product_price)\n",
    "n"
   ]
  },
  {
   "cell_type": "code",
   "execution_count": 74,
   "id": "a17ed7d2-1696-4c16-a8c5-1a7aa53b6c0a",
   "metadata": {},
   "outputs": [
    {
     "name": "stdout",
     "output_type": "stream",
     "text": [
      "El precio del producto más vendido es 50 veces menor que el producto menos vendido.\n"
     ]
    }
   ],
   "source": [
    "print(f'El precio del producto más vendido es {n} veces menor que el producto menos vendido.')"
   ]
  },
  {
   "cell_type": "markdown",
   "id": "24257590-61e8-4d15-a3cb-a973f0dde99c",
   "metadata": {},
   "source": [
    "**10)** ¿Cuál es la órden con mayor cantidad de productos?\n",
    "*Se espera*: `La órden con mayor cantidad de productos es la número {x}, con {y} productos en total`"
   ]
  },
  {
   "cell_type": "code",
   "execution_count": 10,
   "id": "7b393473-507a-4712-9ccd-01441b16dead",
   "metadata": {},
   "outputs": [],
   "source": [
    "order_id_product_quantity_dict = {}\n",
    "\n",
    "for i_d in order_id_set:\n",
    "    order_id_product_quantity_dict[i_d] = 0"
   ]
  },
  {
   "cell_type": "code",
   "execution_count": null,
   "id": "8f481a8d-d7e9-46ef-bb0e-53b4cc773aa2",
   "metadata": {},
   "outputs": [],
   "source": [
    "products = 0\n",
    "\n",
    "for i_d in order_id_product_quantity_dict.keys():\n",
    "    for data in product_sales_data:\n",
    "        if i_d == data[0]:\n",
    "            products =+ data[2]\n",
    "            order_id_product_quantity_dict[i_d] = products"
   ]
  },
  {
   "cell_type": "code",
   "execution_count": null,
   "id": "06557ba4-6882-4c9f-b157-9e07e7d05cc3",
   "metadata": {},
   "outputs": [],
   "source": [
    "product_quantity = []\n",
    "\n",
    "for i_d in order_id_product_quantity_dict.keys():\n",
    "    order_id_product_quantity_dict[i_d] = len(order_id_dict[i_d])\n",
    "most_products_in_one_order = max(product_quantity)"
   ]
  },
  {
   "cell_type": "code",
   "execution_count": null,
   "id": "02a3bb1f-d1d1-4000-ade8-a1450d8f5ee1",
   "metadata": {},
   "outputs": [],
   "source": [
    "for i_d in order_id_product_quantity_dict.keys():\n",
    "    if most_products_in_one_order in order_id_product_quantity_dict:\n",
    "        most_products_order_id = i_d\n",
    "print(most_products_order_id)"
   ]
  },
  {
   "cell_type": "code",
   "execution_count": null,
   "id": "b9d2ca0c-afa0-4a48-b145-7e2b21cf89f2",
   "metadata": {},
   "outputs": [],
   "source": [
    "print(f'La órden con mayor cantidad de productos es la número {most_products_order_id}, con {most_products_in_one_order} productos en total'.)"
   ]
  },
  {
   "cell_type": "code",
   "execution_count": null,
   "id": "64a9f7c6-a54c-4082-83d3-9254ed6c23fe",
   "metadata": {},
   "outputs": [],
   "source": []
  }
 ],
 "metadata": {
  "kernelspec": {
   "display_name": "Python 3 (ipykernel)",
   "language": "python",
   "name": "python3"
  },
  "language_info": {
   "codemirror_mode": {
    "name": "ipython",
    "version": 3
   },
   "file_extension": ".py",
   "mimetype": "text/x-python",
   "name": "python",
   "nbconvert_exporter": "python",
   "pygments_lexer": "ipython3",
   "version": "3.9.7"
  }
 },
 "nbformat": 4,
 "nbformat_minor": 5
}
