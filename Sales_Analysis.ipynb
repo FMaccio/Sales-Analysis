{
 "cells": [
  {
   "cell_type": "markdown",
   "id": "f2a3648b-bc57-4afe-850e-37b0eac4da7e",
   "metadata": {},
   "source": [
    "# Análisis de ventas\n",
    "\n",
    "Se facilita una lista de `dict` con datos reales de ventas con las siguientes keys:\n",
    "\n",
    "* 'Order ID'\n",
    "* 'Product'\n",
    "* 'Quantity Ordered'\n",
    "* 'Price Each\n",
    "* 'Order Date'\n",
    "* 'Purchase Address'\n",
    "\n",
    "y values de tipo `str` en todos los casos:"
   ]
  },
  {
   "cell_type": "code",
   "execution_count": 1,
   "id": "98f1775a-7d52-4540-bd4a-e3a14b2d6544",
   "metadata": {},
   "outputs": [],
   "source": [
    "import pickle\n",
    "\n",
    "with open('sales_data.pickle', 'rb') as handle:\n",
    "    sales_data = pickle.load(handle)"
   ]
  },
  {
   "cell_type": "code",
   "execution_count": 2,
   "id": "d11aad1f-294f-43e3-9d83-d3bdb063ca8b",
   "metadata": {},
   "outputs": [
    {
     "name": "stdout",
     "output_type": "stream",
     "text": [
      "186850\n"
     ]
    },
    {
     "data": {
      "text/plain": [
       "[{'Order ID': '209921',\n",
       "  'Product': 'USB-C Charging Cable',\n",
       "  'Quantity Ordered': '1',\n",
       "  'Price Each': '11.95',\n",
       "  'Order Date': '06/23/19 19:34',\n",
       "  'Purchase Address': '950 Walnut St, Portland, ME 04101'}]"
      ]
     },
     "execution_count": 2,
     "metadata": {},
     "output_type": "execute_result"
    }
   ],
   "source": [
    "print(len(sales_data))  # tiene 186850 entradas\n",
    "sales_data[0:1]  # los diccionarios tienen la siguiente estructura"
   ]
  },
  {
   "cell_type": "code",
   "execution_count": 3,
   "id": "11ffc230-d489-4955-9402-8500d6fa8d21",
   "metadata": {},
   "outputs": [],
   "source": [
    "sales_keys = sales_data[0].keys()"
   ]
  },
  {
   "cell_type": "markdown",
   "id": "ad7347c9-8129-4517-a73a-2468168f0cd4",
   "metadata": {},
   "source": [
    "Responder los siguientes interrogantes de interés, para lo que se requiere:\n",
    "\n",
    "* Inspeccionar los datos\n",
    "* Formatearlos adecuadamente\n",
    "* Elegir y confeccionar nuevas estructuras de datos"
   ]
  },
  {
   "cell_type": "code",
   "execution_count": 4,
   "id": "2d00bda4-76bf-4267-b57e-70a5e2be01ec",
   "metadata": {},
   "outputs": [
    {
     "data": {
      "text/plain": [
       "{'Order ID': 'Order ID',\n",
       " 'Product': 'Product',\n",
       " 'Quantity Ordered': 'Quantity Ordered',\n",
       " 'Price Each': 'Price Each',\n",
       " 'Order Date': 'Order Date',\n",
       " 'Purchase Address': 'Purchase Address'}"
      ]
     },
     "execution_count": 4,
     "metadata": {},
     "output_type": "execute_result"
    }
   ],
   "source": [
    "sales_data[158]\n",
    "# encontramos que algunos diccionarios tenian las values iguales a sus keys, por los que los eliminamos para evitar trabajar sobre ellos."
   ]
  },
  {
   "cell_type": "code",
   "execution_count": 5,
   "id": "ba706336-458a-4709-aa0a-3be4004176bc",
   "metadata": {},
   "outputs": [
    {
     "name": "stdout",
     "output_type": "stream",
     "text": [
      "186495\n"
     ]
    }
   ],
   "source": [
    "for sale in sales_data:\n",
    "    for k in sales_keys:\n",
    "        if sale[k] == k:\n",
    "            sales_data.pop(sales_data.index(sale))\n",
    "            break\n",
    "print(len(sales_data))"
   ]
  },
  {
   "cell_type": "code",
   "execution_count": 6,
   "id": "1868aa89-be48-43e0-a0af-0746b9b90182",
   "metadata": {},
   "outputs": [
    {
     "data": {
      "text/plain": [
       "185950"
      ]
     },
     "execution_count": 6,
     "metadata": {},
     "output_type": "execute_result"
    }
   ],
   "source": [
    "# encontramos que algunos diccionarios tenian las values vacias, por los que los eliminamos para evitar trabajar sobre ellos.\n",
    "\n",
    "for sale in sales_data:\n",
    "    for k in sales_keys:\n",
    "        if type(sale[k]) != type('string'):\n",
    "            sales_data.pop(sales_data.index(sale))\n",
    "            break\n",
    "        elif sale[k] == '':\n",
    "            sales_data.pop(sales_data.index(sale))\n",
    "            break\n",
    "len(sales_data)"
   ]
  },
  {
   "cell_type": "code",
   "execution_count": null,
   "id": "cfc27152-4279-4ac2-8d12-64e2e52643ce",
   "metadata": {},
   "outputs": [],
   "source": [
    "## para recorrer la lista de diccionarios se decició recurrir a listas que contengan la información requerida para cada ejercicio de manera ordenada"
   ]
  },
  {
   "cell_type": "markdown",
   "id": "03e6b700-bedb-4bc9-8326-73b941af9c92",
   "metadata": {},
   "source": [
    "**1)** ¿Cuál es el mes que reporta **la mayor cantidad de productos**? \n",
    "\n",
    "*Se espera*: `El mes de mayor venta es: {Enero/Febrero/Marzo/Abril...}` *(nótese que se debe printear el nombre del mes)*"
   ]
  },
  {
   "cell_type": "code",
   "execution_count": 9,
   "id": "d4b89e71-9bd9-4a01-8ca8-bee0f4996e61",
   "metadata": {},
   "outputs": [
    {
     "data": {
      "text/plain": [
       "'07'"
      ]
     },
     "execution_count": 9,
     "metadata": {},
     "output_type": "execute_result"
    }
   ],
   "source": [
    "months_sales_data = []\n",
    "\n",
    "for sale in sales_data:\n",
    "    months_sales_data.append(sale['Order Date'][0:2])  #order date es del formato mm/dd/yyyy, hh:mm:ss solo me interesa el mes\n",
    "months_sales_data[-1]"
   ]
  },
  {
   "cell_type": "code",
   "execution_count": 10,
   "id": "7aa1bc58-9f62-43d6-92bb-a68f2356f3a7",
   "metadata": {},
   "outputs": [],
   "source": [
    "months_dict = {}\n",
    "\n",
    "for i in range(1, 13):\n",
    "    if i < 10:\n",
    "        k = '0' + str(i)\n",
    "    else:\n",
    "        k = str(i)\n",
    "    months_dict[k] = 0\n",
    "# hacer una función para crear diccionario de meses"
   ]
  },
  {
   "cell_type": "code",
   "execution_count": 11,
   "id": "10bb5e87-2dd6-4043-a392-3c61601ad8f4",
   "metadata": {},
   "outputs": [
    {
     "data": {
      "text/plain": [
       "{'01': 9709,\n",
       " '02': 11975,\n",
       " '03': 15153,\n",
       " '04': 18279,\n",
       " '05': 16566,\n",
       " '06': 13554,\n",
       " '07': 14293,\n",
       " '08': 11961,\n",
       " '09': 11621,\n",
       " '10': 20282,\n",
       " '11': 17573,\n",
       " '12': 24984}"
      ]
     },
     "execution_count": 11,
     "metadata": {},
     "output_type": "execute_result"
    }
   ],
   "source": [
    "for month in months_dict.keys():\n",
    "    for order in months_sales_data:\n",
    "        if month == order:\n",
    "            months_dict[month] = months_dict[month] + 1\n",
    "months_dict    "
   ]
  },
  {
   "cell_type": "code",
   "execution_count": 12,
   "id": "ea64f71d-6112-4062-99b9-43147590b264",
   "metadata": {},
   "outputs": [],
   "source": [
    "spanish_months = ['enero', 'febrero', 'marzo', 'abril', 'mayo', 'junio', 'julio', 'agosto', 'setiembre', 'octubre', 'noviembre', 'diciembre'] \n",
    "spanish_months_dict = {}\n",
    "\n",
    "for i in range(1, 13):\n",
    "    if i < 10:\n",
    "        k = '0' + str(i)\n",
    "    else:\n",
    "        k = str(i)\n",
    "    spanish_months_dict[k] = spanish_months[i - 1]"
   ]
  },
  {
   "cell_type": "code",
   "execution_count": 13,
   "id": "36412521-7dba-4d4c-9ee1-14071f5f4c14",
   "metadata": {},
   "outputs": [
    {
     "data": {
      "text/plain": [
       "24984"
      ]
     },
     "execution_count": 13,
     "metadata": {},
     "output_type": "execute_result"
    }
   ],
   "source": [
    "sales_comparative = []\n",
    "\n",
    "for month in months_dict:\n",
    "    sales_comparative.append(months_dict[month])\n",
    "\n",
    "sales = max(sales_comparative)\n",
    "sales"
   ]
  },
  {
   "cell_type": "code",
   "execution_count": 14,
   "id": "e31e0376-50c9-4b0d-8edf-443a76e11cc4",
   "metadata": {},
   "outputs": [
    {
     "data": {
      "text/plain": [
       "'diciembre'"
      ]
     },
     "execution_count": 14,
     "metadata": {},
     "output_type": "execute_result"
    }
   ],
   "source": [
    "for month in months_dict:\n",
    "    if str(sales) in str(months_dict[month]):\n",
    "        best_month = spanish_months_dict[month]\n",
    "best_month"
   ]
  },
  {
   "cell_type": "code",
   "execution_count": 15,
   "id": "cfa39c57-3e83-4499-a818-82a0a39cb123",
   "metadata": {},
   "outputs": [
    {
     "name": "stdout",
     "output_type": "stream",
     "text": [
      "El mes de mayor venta es: diciembre.\n"
     ]
    }
   ],
   "source": [
    "print(f'El mes de mayor venta es: {best_month}.')"
   ]
  },
  {
   "cell_type": "markdown",
   "id": "ed6afa4f-6c1f-490c-8fab-a2f66703cc50",
   "metadata": {},
   "source": [
    "El motivo por el cual las ventas aumentan en diciembre es la celebración de la navidad y su tradición de entregar regalos. "
   ]
  },
  {
   "cell_type": "markdown",
   "id": "1ad7a381-be91-4dcf-9696-e614582066fd",
   "metadata": {},
   "source": [
    "**2)** ¿Qué ganancia reporta dicho mes?  \n",
    "*Se espera*: `En el mes de {Enero/Febrero/Marzo/Abril...} se reporta una ganancia total de USD{xxxx.xx}` *(nótese que el monto debe incluir DOS decimales)*"
   ]
  },
  {
   "cell_type": "code",
   "execution_count": 16,
   "id": "a66866bc-2335-4098-8f58-d1c3956aebe6",
   "metadata": {},
   "outputs": [],
   "source": [
    "def multiply(a: int, b: float) -> float:\n",
    "    return a * b"
   ]
  },
  {
   "cell_type": "code",
   "execution_count": 17,
   "id": "a050abdf-6b60-4215-bcdf-2c404fa24e46",
   "metadata": {},
   "outputs": [],
   "source": [
    "months_gain_data = []\n",
    "\n",
    "for sale in sales_data:       \n",
    "    months_gain_data.append( [ sale['Order Date'][0:2] , round(multiply(int(sale['Quantity Ordered']), float(sale['Price Each'])), 2) ] )\n",
    "# formato: ['07', 2.99]"
   ]
  },
  {
   "cell_type": "code",
   "execution_count": 18,
   "id": "63ff8f9b-94e6-475e-b00d-142d36020dc1",
   "metadata": {},
   "outputs": [],
   "source": [
    "gains_dict = {}\n",
    "\n",
    "for i in range(1, 13):\n",
    "    if i < 10:\n",
    "        k = '0' + str(i)\n",
    "    else:\n",
    "        k = str(i)\n",
    "    gains_dict[k] = 0"
   ]
  },
  {
   "cell_type": "code",
   "execution_count": 26,
   "id": "e6ae5da2-ff7c-4d57-8861-1e757bbb4b69",
   "metadata": {},
   "outputs": [
    {
     "name": "stdout",
     "output_type": "stream",
     "text": [
      "{'01': 3644513.460000878, '02': 4404044.840001397, '03': 5614200.760002203, '04': 6781340.480002939, '05': 6305213.500002601, '06': 5155604.520001792, '07': 5295551.520001975, '08': 4488935.760001408, '09': 4195120.260001261, '10': 7473453.760003513, '11': 6399206.400002738, '12': 9226886.680003785}\n"
     ]
    }
   ],
   "source": [
    "for data in months_gain_data:\n",
    "    for month in gains_dict.keys():\n",
    "        if month == data[0]:\n",
    "            gains_dict[month] += round(data[1],2)\n",
    "            round(gains_dict[month],2)\n",
    "\n",
    "print(gains_dict)"
   ]
  },
  {
   "cell_type": "code",
   "execution_count": 20,
   "id": "ab7ebe73-f8aa-45f6-bdfc-961630186178",
   "metadata": {},
   "outputs": [
    {
     "data": {
      "text/plain": [
       "4613443.34"
      ]
     },
     "execution_count": 20,
     "metadata": {},
     "output_type": "execute_result"
    }
   ],
   "source": [
    "for month in spanish_months_dict:\n",
    "    if spanish_months_dict[month] == best_month:\n",
    "        best_month_gains = round(gains_dict[month],2)\n",
    "best_month_gains   "
   ]
  },
  {
   "cell_type": "code",
   "execution_count": 21,
   "id": "2637fb0f-96c7-475c-ae9f-9832e3812c61",
   "metadata": {},
   "outputs": [
    {
     "name": "stdout",
     "output_type": "stream",
     "text": [
      "En el mes de diciembre se reporta una ganancia total de USD 4613443.34.\n"
     ]
    }
   ],
   "source": [
    "print(f'En el mes de {best_month} se reporta una ganancia total de USD {best_month_gains}.')"
   ]
  },
  {
   "cell_type": "code",
   "execution_count": 29,
   "id": "3260fabd-1785-4883-bf25-18ce97f7ca08",
   "metadata": {},
   "outputs": [
    {
     "name": "stdout",
     "output_type": "stream",
     "text": [
      "68984071.94\n"
     ]
    }
   ],
   "source": [
    "gains_list = []\n",
    "for month in gains_dict:\n",
    "    gains_list.append(gains_dict[month])\n",
    "total_gains = sum(gains_list)\n",
    "print(round(total_gains,2))"
   ]
  },
  {
   "cell_type": "code",
   "execution_count": 31,
   "id": "f0d9a9d6-261b-4378-a5a1-423d179b819c",
   "metadata": {},
   "outputs": [
    {
     "data": {
      "text/plain": [
       "6.687693564988225"
      ]
     },
     "execution_count": 31,
     "metadata": {},
     "output_type": "execute_result"
    }
   ],
   "source": [
    "sales_percentage = (best_month_gains / total_gains)*100\n",
    "sales_percentage"
   ]
  },
  {
   "cell_type": "markdown",
   "id": "943cdd2d-5176-4486-81c5-7c9daf23704b",
   "metadata": {},
   "source": [
    "A pesar de que diciembre es el mes con más ventas registradas, no es el mes con más ganancias. Solo representan el 6,7 % de las ganancias totales. Dado que este mes es el de mayor ventas, podría ofrecerse descuentos especiales para incentivar a los clientes a comprar productos más caros y generar así mayores ganancias."
   ]
  },
  {
   "cell_type": "markdown",
   "id": "08b218e9-775d-4383-9f13-baa3d8b9be9e",
   "metadata": {},
   "source": [
    "**3)** ¿Qué porcentaje del total de las ventas representa?  \n",
    "*Se espera*: `Las ventas en el mes de {Enero/Febrero/Marzo/Abril...} representan un xx.xx% del total de las ventas` *(nótese que el monto debe incluir DOS decimales)*"
   ]
  },
  {
   "cell_type": "code",
   "execution_count": 32,
   "id": "eb71a997-5c35-42b3-922f-5c05ab5ce541",
   "metadata": {},
   "outputs": [
    {
     "data": {
      "text/plain": [
       "185950"
      ]
     },
     "execution_count": 32,
     "metadata": {},
     "output_type": "execute_result"
    }
   ],
   "source": [
    "total_sales = sum(sales_comparative)\n",
    "total_sales"
   ]
  },
  {
   "cell_type": "code",
   "execution_count": 33,
   "id": "12e23955-1e78-4cfa-a3df-9ced75aa1380",
   "metadata": {},
   "outputs": [
    {
     "data": {
      "text/plain": [
       "13.44"
      ]
     },
     "execution_count": 33,
     "metadata": {},
     "output_type": "execute_result"
    }
   ],
   "source": [
    "sales_percentage = round((max(sales_comparative)/total_sales) * 100 ,2)\n",
    "sales_percentage"
   ]
  },
  {
   "cell_type": "code",
   "execution_count": 34,
   "id": "30282db3-efe3-4df7-a4aa-b7a29949fe22",
   "metadata": {},
   "outputs": [
    {
     "name": "stdout",
     "output_type": "stream",
     "text": [
      "Las ventas en el mes de diciembre representan un 13.44 % del total de las ventas.\n"
     ]
    }
   ],
   "source": [
    "print(f'Las ventas en el mes de {best_month} representan un {sales_percentage} % del total de las ventas.')"
   ]
  },
  {
   "cell_type": "markdown",
   "id": "16a4ef82-0753-41b0-8313-5d069b17225a",
   "metadata": {},
   "source": [
    "**4)** ¿Qué ciudad reportó la mayor cantidad de ventas?  \n",
    "*Se espera*: `La ciudad con mayor cantidad de ventas es {Dallas/Los Angeles/Boston...} reporta la mayor cantidad de ventas` *(nótese que se debe especificar la ciudad y no la dirección completa)*"
   ]
  },
  {
   "cell_type": "code",
   "execution_count": 35,
   "id": "4f77ded6-78d4-4a2d-947c-4dbda776d480",
   "metadata": {},
   "outputs": [],
   "source": [
    "city_sales_data = []\n",
    "\n",
    "for sale in sales_data:\n",
    "    city_sales_data.append( sale['Purchase Address'].split(', ')[1])\n",
    "#print(city_sales_data[-1])"
   ]
  },
  {
   "cell_type": "code",
   "execution_count": 36,
   "id": "1f1e5754-6054-44ce-a5ea-83b3933e0c43",
   "metadata": {},
   "outputs": [
    {
     "data": {
      "text/plain": [
       "{'Dallas': 0,\n",
       " 'Boston': 0,\n",
       " 'San Francisco': 0,\n",
       " 'Austin': 0,\n",
       " 'Portland': 0,\n",
       " 'New York City': 0,\n",
       " 'Atlanta': 0,\n",
       " 'Los Angeles': 0,\n",
       " 'Seattle': 0}"
      ]
     },
     "execution_count": 36,
     "metadata": {},
     "output_type": "execute_result"
    }
   ],
   "source": [
    "citys_set = set(city_sales_data)  # me arme un set para sacar las keys de mi diccionario de ciudades\n",
    "citys_sales_dict = {}\n",
    "\n",
    "for city in citys_set:\n",
    "    citys_sales_dict[city] = 0\n",
    "citys_sales_dict"
   ]
  },
  {
   "cell_type": "code",
   "execution_count": 37,
   "id": "8b3dee57-6a6b-4eeb-80c7-18a523c26277",
   "metadata": {},
   "outputs": [
    {
     "data": {
      "text/plain": [
       "{'Dallas': 14820,\n",
       " 'Boston': 19934,\n",
       " 'San Francisco': 44732,\n",
       " 'Austin': 9905,\n",
       " 'Portland': 12465,\n",
       " 'New York City': 24876,\n",
       " 'Atlanta': 14881,\n",
       " 'Los Angeles': 29605,\n",
       " 'Seattle': 14732}"
      ]
     },
     "execution_count": 37,
     "metadata": {},
     "output_type": "execute_result"
    }
   ],
   "source": [
    "for city in citys_sales_dict.keys():\n",
    "    for order in city_sales_data:\n",
    "        if city == order:\n",
    "            citys_sales_dict[city] = citys_sales_dict[city] + 1\n",
    "citys_sales_dict   "
   ]
  },
  {
   "cell_type": "code",
   "execution_count": 38,
   "id": "7be2f5be-8fd1-4c36-b222-d073ffb0d170",
   "metadata": {},
   "outputs": [
    {
     "data": {
      "text/plain": [
       "44732"
      ]
     },
     "execution_count": 38,
     "metadata": {},
     "output_type": "execute_result"
    }
   ],
   "source": [
    "city_comparative = []\n",
    "for city in citys_sales_dict:\n",
    "    city_comparative.append(citys_sales_dict[city])\n",
    "\n",
    "orders = max(city_comparative)\n",
    "orders"
   ]
  },
  {
   "cell_type": "code",
   "execution_count": 39,
   "id": "3764af5e-b67b-4c5b-ba90-7b61768544f1",
   "metadata": {},
   "outputs": [
    {
     "data": {
      "text/plain": [
       "'San Francisco'"
      ]
     },
     "execution_count": 39,
     "metadata": {},
     "output_type": "execute_result"
    }
   ],
   "source": [
    "for city in citys_sales_dict:\n",
    "    if str(orders) in str(citys_sales_dict[city]):\n",
    "        best_city = city\n",
    "best_city"
   ]
  },
  {
   "cell_type": "code",
   "execution_count": 40,
   "id": "4c1ec46a-d849-4551-a05a-9a1c5f8de728",
   "metadata": {},
   "outputs": [
    {
     "name": "stdout",
     "output_type": "stream",
     "text": [
      "Con 44732 ventas, la ciudad con mayor cantidad de ventas es San Francisco.\n"
     ]
    }
   ],
   "source": [
    "print(f'Con {orders} ventas, la ciudad con mayor cantidad de ventas es {best_city}.')"
   ]
  },
  {
   "cell_type": "markdown",
   "id": "72ea8b39-afba-48d4-8a4e-93952bad8245",
   "metadata": {},
   "source": [
    "San Francisco tiene 874.784 habitantes, mientras que Nueva York tiene 8,38 millones. Sería interesante aumentar la publicidad en esa ciudad para aumentar así también las ventas totales. "
   ]
  },
  {
   "cell_type": "markdown",
   "id": "58bf8a48-2f2d-4166-8556-96430e56caff",
   "metadata": {},
   "source": [
    "**5)** ¿Qué porcentaje del total de las ventas representa?  \n",
    "*Se espera*: `Las ventas en {Dallas/Los Angeles/Boston...} representan un xx.xx% del total` *(nótese que se debe especificar la ciudad y no la dirección completa)*"
   ]
  },
  {
   "cell_type": "code",
   "execution_count": 41,
   "id": "4046e8d2-8961-466d-be01-29bbc3ad687c",
   "metadata": {},
   "outputs": [
    {
     "data": {
      "text/plain": [
       "24.06"
      ]
     },
     "execution_count": 41,
     "metadata": {},
     "output_type": "execute_result"
    }
   ],
   "source": [
    "city_percentage = round((max(city_comparative)/total_sales) * 100 ,2)\n",
    "city_percentage"
   ]
  },
  {
   "cell_type": "code",
   "execution_count": 42,
   "id": "7348d489-34fb-4062-8553-4bdd66eea9fb",
   "metadata": {},
   "outputs": [
    {
     "name": "stdout",
     "output_type": "stream",
     "text": [
      "Las ventas en San Francisco representan un 24.06 % del total.\n"
     ]
    }
   ],
   "source": [
    "print(f'Las ventas en {best_city} representan un {city_percentage} % del total.')"
   ]
  },
  {
   "cell_type": "markdown",
   "id": "6da0d69c-21d7-41d5-b0e5-e4850e14295b",
   "metadata": {},
   "source": [
    "Las ventas en San Francisco representan practicamente 1/4 de las ventas totales de la empresa, marcando una fuerte presencia en la costa oeste."
   ]
  },
  {
   "cell_type": "markdown",
   "id": "5df123ac-8802-4c6a-9b52-2093f9cd671d",
   "metadata": {},
   "source": [
    "**6)** ¿En qué horas del día se deberían publicar anuncios promocionales para maximizar las ventas?  \n",
    "*Se espera*: `Las horas del día en las que más ventas se registran son: {xx}hs y {yy}hs` *(nótese que se requieren horas del día, como \"10hs\" o \"20hs\")*"
   ]
  },
  {
   "cell_type": "code",
   "execution_count": 44,
   "id": "87236987-21fe-4cd7-a672-df7b41226ed3",
   "metadata": {},
   "outputs": [
    {
     "data": {
      "text/plain": [
       "'19'"
      ]
     },
     "execution_count": 44,
     "metadata": {},
     "output_type": "execute_result"
    }
   ],
   "source": [
    "hours_sales_data = []\n",
    "\n",
    "for sale in sales_data:\n",
    "    hours_sales_data.append(sale['Order Date'][-5:-3])\n",
    "hours_sales_data[0]"
   ]
  },
  {
   "cell_type": "code",
   "execution_count": 45,
   "id": "fd6de83a-6dfe-4350-a6e5-cae6aecc1022",
   "metadata": {},
   "outputs": [],
   "source": [
    "hours_dict = {}\n",
    "\n",
    "for i in range(0, 24):\n",
    "    if i < 10:\n",
    "        k = '0' + str(i)\n",
    "    else:\n",
    "        k = str(i)\n",
    "    hours_dict[k] = 0\n",
    "#hours_dict"
   ]
  },
  {
   "cell_type": "code",
   "execution_count": 47,
   "id": "1df4f7a9-f1ad-46c3-8f54-80fe555d95b1",
   "metadata": {},
   "outputs": [
    {
     "data": {
      "text/plain": [
       "{'00': 3910,\n",
       " '01': 2350,\n",
       " '02': 1243,\n",
       " '03': 831,\n",
       " '04': 854,\n",
       " '05': 1321,\n",
       " '06': 2482,\n",
       " '07': 4011,\n",
       " '08': 6256,\n",
       " '09': 8748,\n",
       " '10': 10944,\n",
       " '11': 12411,\n",
       " '12': 12587,\n",
       " '13': 12129,\n",
       " '14': 10984,\n",
       " '15': 10175,\n",
       " '16': 10384,\n",
       " '17': 10899,\n",
       " '18': 12280,\n",
       " '19': 12905,\n",
       " '20': 12228,\n",
       " '21': 10921,\n",
       " '22': 8822,\n",
       " '23': 6275}"
      ]
     },
     "execution_count": 47,
     "metadata": {},
     "output_type": "execute_result"
    }
   ],
   "source": [
    "for hour in hours_dict.keys():\n",
    "    for order in hours_sales_data:\n",
    "        if hour == order:\n",
    "            hours_dict[hour] = hours_dict[hour] + 1\n",
    "hours_dict  "
   ]
  },
  {
   "cell_type": "code",
   "execution_count": 48,
   "id": "ab5fcc5e-8f1d-45f6-901c-220f1d372e6d",
   "metadata": {},
   "outputs": [
    {
     "name": "stdout",
     "output_type": "stream",
     "text": [
      "[3910, 2350, 1243, 831, 854, 1321, 2482, 4011, 6256, 8748, 10944, 12411, 12587, 12129, 10984, 10175, 10384, 10899, 12280, 12228, 10921, 8822, 6275]\n"
     ]
    }
   ],
   "source": [
    "hours_comparative = []\n",
    "\n",
    "for hour in hours_dict.keys():\n",
    "    hours_comparative.append(hours_dict[hour])\n",
    "    \n",
    "best_hour = max(hours_comparative)\n",
    "hours_comparative.pop(hours_comparative.index(max(hours_comparative)))\n",
    "print(hours_comparative)"
   ]
  },
  {
   "cell_type": "code",
   "execution_count": 49,
   "id": "4b02bbd3-7724-4c68-81f6-894c0a0c7a04",
   "metadata": {},
   "outputs": [
    {
     "data": {
      "text/plain": [
       "[12905, 12587]"
      ]
     },
     "execution_count": 49,
     "metadata": {},
     "output_type": "execute_result"
    }
   ],
   "source": [
    "second_best_hour = max(hours_comparative)\n",
    "sales_hours = [best_hour , second_best_hour]\n",
    "sales_hours"
   ]
  },
  {
   "cell_type": "code",
   "execution_count": 50,
   "id": "861d3c3c-015d-4f46-a9cb-fd7b340aa1d2",
   "metadata": {},
   "outputs": [
    {
     "name": "stdout",
     "output_type": "stream",
     "text": [
      "19\n",
      "13\n"
     ]
    }
   ],
   "source": [
    "for hour in hours_dict:\n",
    "    if str(best_hour) in str(hours_dict[hour]):\n",
    "        best_hour = hour\n",
    "    elif str(second_best_hour) in str(hours_dict[hour]):\n",
    "        second_best_hour = hour\n",
    "print(best_hour)  # después del trabajo, apenas la gente llega a casa\n",
    "print(second_best_hour)  # en el almuerzo"
   ]
  },
  {
   "cell_type": "code",
   "execution_count": 52,
   "id": "8000e2e1-d47a-41da-90d9-0c65faafa459",
   "metadata": {},
   "outputs": [
    {
     "name": "stdout",
     "output_type": "stream",
     "text": [
      "Las horas del día en las que más ventas se registran son: 19hs y 13hs.\n"
     ]
    }
   ],
   "source": [
    "print(f'Las horas del día en las que más ventas se registran son: {best_hour}hs y {second_best_hour}hs.') "
   ]
  },
  {
   "cell_type": "markdown",
   "id": "8b93824e-b8b6-4925-b52d-0b51912ac79e",
   "metadata": {},
   "source": [
    "La mayoría de las ventas tiene lugar durante la hora del almuerzo y luego del horario de oficina, cuando las personas regresan a sus hogares. Para potenciar estas ventas hay que aumentar la publicidad cercana a estas horas, para atraer a los clientes a realizar la compra."
   ]
  },
  {
   "cell_type": "markdown",
   "id": "aace424e-7c80-4959-8943-9e0e937a6148",
   "metadata": {},
   "source": [
    "**7)** Determinar productos que se venden juntos y DE A DOS.  \n",
    "*Se espera*: `Los siguientes productos se venden juntos y de a dos: {x}-{y}, {yy}-{zz} ...`  \n",
    "**OBS**: Para una misma *orden* se pueden regitrar varios productos."
   ]
  },
  {
   "cell_type": "code",
   "execution_count": 53,
   "id": "37709319-f1d3-4840-b65f-d5c830869c45",
   "metadata": {},
   "outputs": [],
   "source": [
    "product_sales_data = []\n",
    "\n",
    "for sale in sales_data:       \n",
    "    product_sales_data.append( [sale['Order ID'], [sale['Product']], (int(sale['Quantity Ordered']) ) ])\n",
    "# formato: ['209921', 'USB-C Charging Cable', 1]\n",
    "#product_sales_data[0]"
   ]
  },
  {
   "cell_type": "code",
   "execution_count": 56,
   "id": "afae8569-e418-4949-97ea-c662a469fe5f",
   "metadata": {},
   "outputs": [
    {
     "data": {
      "text/plain": [
       "178437"
      ]
     },
     "execution_count": 56,
     "metadata": {},
     "output_type": "execute_result"
    }
   ],
   "source": [
    "order_id_list = []\n",
    "\n",
    "for sale in sales_data:\n",
    "    order_id_list.append(sale['Order ID'])\n",
    "order_id_set = set(order_id_list)\n",
    "len(order_id_set)"
   ]
  },
  {
   "cell_type": "code",
   "execution_count": 57,
   "id": "511833af-f359-420a-b812-4d7df1a14336",
   "metadata": {},
   "outputs": [
    {
     "data": {
      "text/plain": [
       "7513"
      ]
     },
     "execution_count": 57,
     "metadata": {},
     "output_type": "execute_result"
    }
   ],
   "source": [
    "len(product_sales_data)-len(order_id_set)"
   ]
  },
  {
   "cell_type": "code",
   "execution_count": null,
   "id": "743fd954-d286-4823-9a6f-a8daadee1fec",
   "metadata": {},
   "outputs": [],
   "source": []
  },
  {
   "cell_type": "markdown",
   "id": "37d47af7-ef28-4e78-ac65-d429f1e34893",
   "metadata": {},
   "source": [
    "Hay 7513 order ID que se repiten al menos una vez"
   ]
  },
  {
   "cell_type": "code",
   "execution_count": 58,
   "id": "18087e73-0522-4499-9335-0021cc3eb7a3",
   "metadata": {},
   "outputs": [
    {
     "data": {
      "text/plain": [
       "list"
      ]
     },
     "execution_count": 58,
     "metadata": {},
     "output_type": "execute_result"
    }
   ],
   "source": [
    "order_id_dict = {}\n",
    "\n",
    "for i_d in order_id_set:\n",
    "    order_id_dict[i_d] = []\n",
    "type(order_id_dict[i_d])"
   ]
  },
  {
   "cell_type": "code",
   "execution_count": null,
   "id": "43167315-4f8f-496b-8678-84eece3eb669",
   "metadata": {},
   "outputs": [],
   "source": [
    "for i_d in order_id_dict.keys():\n",
    "    for data in product_sales_data:\n",
    "        products = order_id_dict[i_d] + data[1]\n",
    "        order_id_dict[i_d] = products"
   ]
  },
  {
   "cell_type": "code",
   "execution_count": null,
   "id": "f352db85-bab5-48f5-939b-ae3909ce95ba",
   "metadata": {},
   "outputs": [],
   "source": [
    "order_id_dict"
   ]
  },
  {
   "cell_type": "code",
   "execution_count": null,
   "id": "3ce12d3e-9ffe-46ce-b86d-94a12c3367dc",
   "metadata": {},
   "outputs": [],
   "source": [
    "two_products_dict ={}\n",
    "for i_d in order_id_dict.keys():  # para quedarme solo con las compras de 2 productos distintos\n",
    "    if len(order_id_dict[i_d]) != 2:\n",
    "        two_products_dict[id] = 0\n",
    "        "
   ]
  },
  {
   "cell_type": "code",
   "execution_count": null,
   "id": "31941099-4064-4761-a7b8-37a26452a54a",
   "metadata": {},
   "outputs": [],
   "source": [
    "for i_d in two_products_dict.keys():\n",
    "    for data in product_sales_data:\n",
    "        two_products_dict[id] =+ data[2] "
   ]
  },
  {
   "cell_type": "code",
   "execution_count": null,
   "id": "01a21f39-e7c0-4b64-bca3-0c57204e8f9c",
   "metadata": {},
   "outputs": [],
   "source": [
    "###### terminar después"
   ]
  },
  {
   "cell_type": "code",
   "execution_count": null,
   "id": "67dd1f55-022d-4a14-b71d-665f52bca3aa",
   "metadata": {},
   "outputs": [],
   "source": [
    "print(f'Los siguientes productos se venden juntos y de a dos: {x}-{y}, {yy}-{zz} ...')"
   ]
  },
  {
   "cell_type": "code",
   "execution_count": null,
   "id": "8fa4258a-0d59-41db-9480-c08b966c867f",
   "metadata": {},
   "outputs": [],
   "source": []
  },
  {
   "cell_type": "code",
   "execution_count": null,
   "id": "9c8cedd8-9001-4b2c-b349-027c6d53ee0e",
   "metadata": {},
   "outputs": [],
   "source": []
  },
  {
   "cell_type": "code",
   "execution_count": null,
   "id": "0d28e1cf-d05b-40de-8bb5-7d852b850235",
   "metadata": {},
   "outputs": [],
   "source": []
  },
  {
   "cell_type": "markdown",
   "id": "4efe8ffa-a881-42a0-bec9-c172f48d5722",
   "metadata": {},
   "source": [
    "**8)** ¿Cuál es el producto más vendido?\n",
    "*Se espera*: `El producto más vendido es {x}`"
   ]
  },
  {
   "cell_type": "code",
   "execution_count": 54,
   "id": "afe552e8-3421-4a00-aad6-899235a1a076",
   "metadata": {},
   "outputs": [
    {
     "data": {
      "text/plain": [
       "'USB-C Charging Cable'"
      ]
     },
     "execution_count": 54,
     "metadata": {},
     "output_type": "execute_result"
    }
   ],
   "source": [
    "products_list = []\n",
    "\n",
    "for sale in sales_data:       \n",
    "     products_list.append(sale['Product'])\n",
    "# formato: ['209921', 'USB-C Charging Cable', 1]\n",
    "products_list[0]"
   ]
  },
  {
   "cell_type": "code",
   "execution_count": 55,
   "id": "1687974c-aab8-47da-9591-f35f4f8eaa52",
   "metadata": {},
   "outputs": [
    {
     "data": {
      "text/plain": [
       "{'20in Monitor',\n",
       " '27in 4K Gaming Monitor',\n",
       " '27in FHD Monitor',\n",
       " '34in Ultrawide Monitor',\n",
       " 'AA Batteries (4-pack)',\n",
       " 'AAA Batteries (4-pack)',\n",
       " 'Apple Airpods Headphones',\n",
       " 'Bose SoundSport Headphones',\n",
       " 'Flatscreen TV',\n",
       " 'Google Phone',\n",
       " 'LG Dryer',\n",
       " 'LG Washing Machine',\n",
       " 'Lightning Charging Cable',\n",
       " 'Macbook Pro Laptop',\n",
       " 'ThinkPad Laptop',\n",
       " 'USB-C Charging Cable',\n",
       " 'Vareebadd Phone',\n",
       " 'Wired Headphones',\n",
       " 'iPhone'}"
      ]
     },
     "execution_count": 55,
     "metadata": {},
     "output_type": "execute_result"
    }
   ],
   "source": [
    "products_set = set(products_list)\n",
    "products_set"
   ]
  },
  {
   "cell_type": "code",
   "execution_count": 61,
   "id": "54d337bd-2387-45b9-8789-c6f4da30b5f0",
   "metadata": {},
   "outputs": [],
   "source": [
    "products_dict = {}\n",
    "for product in products_set:\n",
    "    products_dict[product] = 0\n",
    "#products_dict"
   ]
  },
  {
   "cell_type": "code",
   "execution_count": 63,
   "id": "c243e707-127d-4940-8a44-1a2ab4c92879",
   "metadata": {},
   "outputs": [
    {
     "data": {
      "text/plain": [
       "{'USB-C Charging Cable': 21903,\n",
       " 'iPhone': 6842,\n",
       " 'LG Dryer': 646,\n",
       " 'Bose SoundSport Headphones': 13325,\n",
       " '20in Monitor': 4101,\n",
       " 'Wired Headphones': 18882,\n",
       " 'LG Washing Machine': 666,\n",
       " '27in 4K Gaming Monitor': 6230,\n",
       " 'Vareebadd Phone': 2065,\n",
       " 'Flatscreen TV': 4800,\n",
       " '34in Ultrawide Monitor': 6181,\n",
       " '27in FHD Monitor': 7507,\n",
       " 'Google Phone': 5525,\n",
       " 'Macbook Pro Laptop': 4724,\n",
       " 'AA Batteries (4-pack)': 20577,\n",
       " 'Lightning Charging Cable': 21658,\n",
       " 'AAA Batteries (4-pack)': 20641,\n",
       " 'ThinkPad Laptop': 4128,\n",
       " 'Apple Airpods Headphones': 15549}"
      ]
     },
     "execution_count": 63,
     "metadata": {},
     "output_type": "execute_result"
    }
   ],
   "source": [
    "for product in products_dict.keys():\n",
    "    products_dict[product] = products_list.count(product)\n",
    "products_dict"
   ]
  },
  {
   "cell_type": "code",
   "execution_count": 64,
   "id": "17929ed0-aada-4a9a-b08e-faff72002de4",
   "metadata": {},
   "outputs": [
    {
     "data": {
      "text/plain": [
       "21903"
      ]
     },
     "execution_count": 64,
     "metadata": {},
     "output_type": "execute_result"
    }
   ],
   "source": [
    "product_amount = []\n",
    "\n",
    "for product in products_dict.keys():\n",
    "    product_amount.append(products_dict[product])\n",
    "\n",
    "amount_most_sold_product = max(product_amount)\n",
    "amount_most_sold_product    "
   ]
  },
  {
   "cell_type": "code",
   "execution_count": 65,
   "id": "75e58c56-0d07-4b4c-8bd6-aa42b7960dec",
   "metadata": {},
   "outputs": [
    {
     "data": {
      "text/plain": [
       "'USB-C Charging Cable'"
      ]
     },
     "execution_count": 65,
     "metadata": {},
     "output_type": "execute_result"
    }
   ],
   "source": [
    "for product in products_dict.keys():\n",
    "    if amount_most_sold_product == products_dict[product]:\n",
    "        most_sold_product = product\n",
    "most_sold_product"
   ]
  },
  {
   "cell_type": "code",
   "execution_count": 66,
   "id": "34a3fbd1-c2ee-4e55-ab10-7bdfc0d7db03",
   "metadata": {},
   "outputs": [
    {
     "name": "stdout",
     "output_type": "stream",
     "text": [
      "El producto más vendido es USB-C Charging Cable.\n"
     ]
    }
   ],
   "source": [
    "print(f'El producto más vendido es {most_sold_product}.')"
   ]
  },
  {
   "cell_type": "markdown",
   "id": "ea92f40c-ffb1-4d31-a4cd-7eeac220d93d",
   "metadata": {},
   "source": [
    "**9)** ¿Cuál es la relación entre el precio del producto más vendido y el del menos vendido?\n",
    "*Se espera:* `El precio del producto más vendido es {n} veces mayor/menor que el producto menos vendido`"
   ]
  },
  {
   "cell_type": "code",
   "execution_count": 67,
   "id": "c5bc7271-e66f-44cc-8c0a-d9eb20e4cadd",
   "metadata": {},
   "outputs": [
    {
     "data": {
      "text/plain": [
       "646"
      ]
     },
     "execution_count": 67,
     "metadata": {},
     "output_type": "execute_result"
    }
   ],
   "source": [
    "amount_worst_sold_product = min(product_amount)\n",
    "amount_worst_sold_product    "
   ]
  },
  {
   "cell_type": "code",
   "execution_count": 68,
   "id": "fee72603-a31c-4cca-af5e-8b1123915572",
   "metadata": {},
   "outputs": [
    {
     "data": {
      "text/plain": [
       "'LG Dryer'"
      ]
     },
     "execution_count": 68,
     "metadata": {},
     "output_type": "execute_result"
    }
   ],
   "source": [
    "for product in products_dict.keys():\n",
    "    if amount_worst_sold_product == products_dict[product]:\n",
    "        worst_sold_product = product\n",
    "worst_sold_product"
   ]
  },
  {
   "cell_type": "code",
   "execution_count": 70,
   "id": "e5058a8d-5919-4132-9b20-52fe14abbca0",
   "metadata": {},
   "outputs": [],
   "source": [
    "products_price_dict = {}\n",
    "\n",
    "for product in products_set:\n",
    "    products_price_dict[product] = 0\n",
    "    \n",
    "#products_price_dict"
   ]
  },
  {
   "cell_type": "code",
   "execution_count": 71,
   "id": "1c323d4f-0934-4b1a-adeb-333a8eac9ba0",
   "metadata": {},
   "outputs": [
    {
     "data": {
      "text/plain": [
       "{'USB-C Charging Cable': 11.95,\n",
       " 'Macbook Pro Laptop': 1700.0,\n",
       " 'ThinkPad Laptop': 999.99,\n",
       " '27in FHD Monitor': 149.99,\n",
       " 'Bose SoundSport Headphones': 99.99,\n",
       " 'Apple Airpods Headphones': 150.0,\n",
       " 'Lightning Charging Cable': 14.95,\n",
       " 'Wired Headphones': 11.99,\n",
       " 'Flatscreen TV': 300.0,\n",
       " 'AA Batteries (4-pack)': 3.84,\n",
       " 'AAA Batteries (4-pack)': 2.99,\n",
       " '34in Ultrawide Monitor': 379.99,\n",
       " 'iPhone': 700.0,\n",
       " 'Google Phone': 600.0,\n",
       " '27in 4K Gaming Monitor': 389.99,\n",
       " '20in Monitor': 109.99,\n",
       " 'LG Dryer': 600.0,\n",
       " 'Vareebadd Phone': 400.0,\n",
       " 'LG Washing Machine': 600.0}"
      ]
     },
     "execution_count": 71,
     "metadata": {},
     "output_type": "execute_result"
    }
   ],
   "source": [
    "products_price_dict = {}\n",
    "\n",
    "for sale in sales_data:\n",
    "    for product in products_dict.keys():\n",
    "        if product == sale['Product']:\n",
    "            products_price_dict[product] = round(float(sale['Price Each']),2)\n",
    "products_price_dict"
   ]
  },
  {
   "cell_type": "code",
   "execution_count": 72,
   "id": "ea7abdcf-2ca8-4a9a-ba03-4d5c4ccef332",
   "metadata": {},
   "outputs": [
    {
     "name": "stdout",
     "output_type": "stream",
     "text": [
      "11.95\n",
      "600.0\n"
     ]
    }
   ],
   "source": [
    "for product in products_price_dict.keys():\n",
    "    if worst_sold_product == product:\n",
    "        worst_sold_product_price = products_price_dict[product]\n",
    "    elif most_sold_product == product:\n",
    "        most_sold_product_price = products_price_dict[product]\n",
    "print(most_sold_product_price)\n",
    "print(worst_sold_product_price)"
   ]
  },
  {
   "cell_type": "code",
   "execution_count": 73,
   "id": "fe0a75f3-9928-41ba-ae42-07c4f8e4123e",
   "metadata": {},
   "outputs": [
    {
     "data": {
      "text/plain": [
       "50"
      ]
     },
     "execution_count": 73,
     "metadata": {},
     "output_type": "execute_result"
    }
   ],
   "source": [
    "n= int(worst_sold_product_price / most_sold_product_price)\n",
    "n"
   ]
  },
  {
   "cell_type": "code",
   "execution_count": 74,
   "id": "a17ed7d2-1696-4c16-a8c5-1a7aa53b6c0a",
   "metadata": {},
   "outputs": [
    {
     "name": "stdout",
     "output_type": "stream",
     "text": [
      "El precio del producto más vendido es 50 veces menor que el producto menos vendido.\n"
     ]
    }
   ],
   "source": [
    "print(f'El precio del producto más vendido es {n} veces menor que el producto menos vendido.')"
   ]
  },
  {
   "cell_type": "markdown",
   "id": "24257590-61e8-4d15-a3cb-a973f0dde99c",
   "metadata": {},
   "source": [
    "**10)** ¿Cuál es la órden con mayor cantidad de productos?\n",
    "*Se espera*: `La órden con mayor cantidad de productos es la número {x}, con {y} productos en total`"
   ]
  },
  {
   "cell_type": "code",
   "execution_count": 75,
   "id": "7b393473-507a-4712-9ccd-01441b16dead",
   "metadata": {},
   "outputs": [],
   "source": [
    "order_id_product_quantity_dict = {}\n",
    "\n",
    "for i_d in order_id_set:\n",
    "    order_id_product_quantity_dict[i_d] = 0"
   ]
  },
  {
   "cell_type": "code",
   "execution_count": null,
   "id": "8f481a8d-d7e9-46ef-bb0e-53b4cc773aa2",
   "metadata": {},
   "outputs": [],
   "source": [
    "for i_d in order_id_product_quantity_dict.keys():\n",
    "    for data in product_sales_data:\n",
    "        products =+ data[2]\n",
    "        order_id_product_quantity_dict[i_d] = products"
   ]
  },
  {
   "cell_type": "code",
   "execution_count": null,
   "id": "06557ba4-6882-4c9f-b157-9e07e7d05cc3",
   "metadata": {},
   "outputs": [],
   "source": [
    "product_quantity = []\n",
    "\n",
    "for i_d in order_id_product_quantity_dict.keys():\n",
    "    order_id_product_quantity_dict[i_d] = len(order_id_dict[i_d])\n",
    "most_products_in_one_order = max(product_quantity)"
   ]
  },
  {
   "cell_type": "code",
   "execution_count": null,
   "id": "02a3bb1f-d1d1-4000-ade8-a1450d8f5ee1",
   "metadata": {},
   "outputs": [],
   "source": [
    "for i_d in order_id_product_quantity_dict.keys():\n",
    "    if most_products_in_one_order in order_id_product_quantity_dict:\n",
    "        most_products_order_id = i_d\n",
    "print(most_products_order_id)"
   ]
  },
  {
   "cell_type": "code",
   "execution_count": null,
   "id": "b9d2ca0c-afa0-4a48-b145-7e2b21cf89f2",
   "metadata": {},
   "outputs": [],
   "source": [
    "print(f'La órden con mayor cantidad de productos es la número {most_products_order_id}, con {most_products_in_one_order} productos en total'.)"
   ]
  },
  {
   "cell_type": "code",
   "execution_count": null,
   "id": "64a9f7c6-a54c-4082-83d3-9254ed6c23fe",
   "metadata": {},
   "outputs": [],
   "source": []
  }
 ],
 "metadata": {
  "kernelspec": {
   "display_name": "Python 3 (ipykernel)",
   "language": "python",
   "name": "python3"
  },
  "language_info": {
   "codemirror_mode": {
    "name": "ipython",
    "version": 3
   },
   "file_extension": ".py",
   "mimetype": "text/x-python",
   "name": "python",
   "nbconvert_exporter": "python",
   "pygments_lexer": "ipython3",
   "version": "3.9.7"
  }
 },
 "nbformat": 4,
 "nbformat_minor": 5
}
